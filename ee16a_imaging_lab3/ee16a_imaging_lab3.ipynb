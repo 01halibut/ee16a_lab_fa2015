{
 "cells": [
  {
   "cell_type": "markdown",
   "metadata": {},
   "source": [
    "# Imaging Lab 3: Improved Pixel Scanning\n",
    "\n",
    "### EECS 16A: Designing Information Devices and Systems I, Fall 2015"
   ]
  },
  {
   "cell_type": "markdown",
   "metadata": {},
   "source": [
    "**Name 1**:\n",
    "\n",
    "**Login**: ee16a-\n",
    "\n",
    "\n",
    "**Name 2**:\n",
    "\n",
    "**Login**: ee16a-"
   ]
  },
  {
   "cell_type": "markdown",
   "metadata": {},
   "source": [
    "\n",
    "## Table of Contents\n",
    "\n",
    "* [Task1: Setup](#task1a)\n",
    "    * [Light Sensor](#task1a)\n",
    "    * [MSP430 Code](#task1b)\n",
    "    * [Projector](#task1c)\n",
    "* [Task 2: Multipixel Scanning](#task2a)\n",
    "    * [Multipixel Scanning](#task2a)\n",
    "    * [Scanning Matrix](#task2b)\n",
    "    * [Real Image Scanning](#task2c)\n",
    "    \n",
    "* [Task 3: Imaging Simulator](#task3)\n",
    "        \n",
    "* [Task 4: Imaging Contest (Optional)](#task2d)\n",
    "    * [Contest (Optional)](#contest)\n",
    "    * [Most Realistic (Optional)](#real)\n",
    "    * [Most Creative (Optional)](#creative)"
   ]
  },
  {
   "cell_type": "markdown",
   "metadata": {},
   "source": [
    "# Overview\n",
    "This week, you will experiment with a method to try to produce better images: scanning multiple pixels at a time. As with the last lab, you will begin by checking that the sensing circuit works and that the projector is correctly connected to the computer. Next, you will write code to generate the multipixel pattern that the projector will use to scan through the image. Finally you will use your code and scanning matrix to image a card!"
   ]
  },
  {
   "cell_type": "code",
   "execution_count": 61,
   "metadata": {
    "collapsed": false
   },
   "outputs": [],
   "source": [
    "# Import Necessary Libraries\n",
    "from  pylab import *\n",
    "import struct\n",
    "import numpy as np\n",
    "from scipy import random\n",
    "import time\n",
    "import scipy\n",
    "from scipy import linalg\n",
    "import serial\n",
    "\n",
    "%matplotlib inline"
   ]
  },
  {
   "cell_type": "markdown",
   "metadata": {},
   "source": [
    "<a id='task1a'></a>\n",
    "##<span style=\"color:blue\">Task 1a: Test the Imaging Setup</span>\n",
    "\n",
    "When dealing with a complicated system it is often useful to perform a \"sanity check\" to make sure that a simpler subset of the system is working as expected, before adding more complexity. We will begin this lab by making sure that the single pixel scan (from Lab 2) works. The circuit diagram and setup instructions from the previous lab are provided below for reference.\n",
    "<br/>\n",
    "\n",
    "Build your solar cell circuit as you did in Imaging Lab 1:\n",
    "<center>\n",
    "<img src=\"http://inst.eecs.berkeley.edu/~ee16a/images/imaging_img/SolarCell%20Circuit.png\" align=\"center\" style=\"height:200px\"/>\n",
    "</center>\n",
    "<a id='task1b'></a>\n",
    "\n",
    "##<span style=\"color:blue\">Task 1b: Upload Code to MSP430</span>\n",
    "**<span style=\"color:red\"> Upload the `AnalogReadSerial` program to your MSP430. This is located in the lab folder. To verify  that the program is working, type a '6' into the serial monitor. You should see a reading from the solar cell appear. Make sure this value changes with changing levels of light. </span>**\n",
    "\n",
    "<a id='task1c'></a>\n",
    "##<span style=\"color:blue\">Task 1c: Projector Setup</span>\n",
    "* Place the breadboard, MSP430, and solar cell in the stand.\n",
    "* Connect the USB cable to the MSP430.\n",
    "* Connect the HDMI and power cables to the projector.\n",
    "* Turn on the projector (using the power button on the top) and use the left/right arrows to select the HDMI output.\n",
    "* <span style=\"color:blue\">The projector, 3D printed stand, and MSP430 should all be placed inside the box!</span>\n",
    "\n",
    "**<span style=\"color:red\">Confirm that you are able to see a blank Windows Desktop on the projector screen.</span>**\n"
   ]
  },
  {
   "cell_type": "code",
   "execution_count": 66,
   "metadata": {
    "collapsed": false
   },
   "outputs": [],
   "source": [
    "#TODO: Create the matrix with ones along the diagonal used to scan 30x40 images from Lab 3 (exact same as last week)\n",
    "height=30\n",
    "width=40\n",
    "H = np.zeros(shape = (height * width,height * width))\n",
    "for i in range(0,height * width):\n",
    "    for j in range(0,height * width):\n",
    "        if i == j: H[i][j] = 1\n",
    "\n",
    "# Save the mask for use with the projector\n",
    "np.save(\"imaging_mask.npy\", H)\n"
   ]
  },
  {
   "cell_type": "markdown",
   "metadata": {},
   "source": [
    "**<span style=\"color:red\">After running the above code to create the imaging mask, run the `capture_image.py` program just like Lab 2 and make sure you are able to produce an image before moving on.</span>**"
   ]
  },
  {
   "cell_type": "markdown",
   "metadata": {},
   "source": [
    "**<span style=\"color:red\"> Complete and run the code below to look at your scanned playing card.</span>**\n"
   ]
  },
  {
   "cell_type": "code",
   "execution_count": 67,
   "metadata": {
    "collapsed": false
   },
   "outputs": [
    {
     "data": {
      "text/plain": [
       "<matplotlib.image.AxesImage at 0x92a8630>"
      ]
     },
     "execution_count": 67,
     "metadata": {},
     "output_type": "execute_result"
    },
    {
     "data": {
      "image/png": "[encoded data removed]",
      "text/plain": [
       "<matplotlib.figure.Figure at 0x5af1e10>"
      ]
     },
     "metadata": {},
     "output_type": "display_data"
    }
   ],
   "source": [
    "#WARNING!! If you run multiple scans (by pressing enter at the end of a scan) the sensor_readings0.npy file \n",
    "#  will incrememnt to sensor_readings1.npy, sensor_readings2.npy etc Make sure you read in the correct file. \n",
    "\n",
    "sr = np.load('data/sensor_readings0.npy')#[30*40:]\n",
    "sr = [element - 900 for element in sr]\n",
    "\n",
    "#TODO: Create the image vector from H and sr\n",
    "#Hint: Because H is a special matrix, technically you do not need to perform any matrix operations\n",
    "iv = np.dot(H, sr)\n",
    "\n",
    "\n",
    "#Contrast code\n",
    "m = median(iv)\n",
    "s = std(iv)\n",
    "\n",
    "if s< 20:\n",
    "    s = 20\n",
    "\n",
    "#Display the result\n",
    "plt.figure(figsize=(3,4))\n",
    "plt.imshow(np.reshape(iv,(30,40)), cmap='gray', vmin = m - s, vmax = m + s, interpolation='nearest')"
   ]
  },
  {
   "cell_type": "markdown",
   "metadata": {},
   "source": [
    "<a id='task2a'></a>\n",
    "##<span style=\"color:blue\">Task 2a: Multipixel Scanning</span>\n",
    "In the previous lab, each pixel was illuminated only once. This system is not very robust, because an error in any single measurement will be visible in the final image. Said another way, if we are taking a reading of the first pixel, and the projector flickers or we open the box, we lose all information about the first pixel and we cannot recover it.  \n",
    "\n",
    "To address this, we will illuminate each pixel multiple times. This will effectively give us multiple chances to extract information from each pixel. To begin, we will focus on a 2x2 pixel section of the image. As we did last week, we will start by creating a small version and then scale this up to scan a full image (30x40 pixels). "
   ]
  },
  {
   "cell_type": "markdown",
   "metadata": {},
   "source": [
    "##Multipixel Scanning Matrix\n",
    "\n",
    "Our goal is to illuminate certain pixels more than once. How can we illuminate every pixel in our 2x2 image more than once while  using only 4 imaging masks? The solution is to illuminate more than one pixel per mask. But how do you choose which pixels to illuminate in each mask?\n",
    "\n",
    "Begin by assigning each grayscale value in the 2x2 section to a variable, $iv_{ij}$, where i is the row and j is the column. Your matrix corresponding to the 2x2 image will look like this:\n",
    "$\\begin{bmatrix} iv_{00} & iv_{01} \\\\ iv_{10} & iv_{11} \\end{bmatrix}$.\n",
    "\n",
    "Representing the sensor reading from the kth mask by $sr_k$, we write the following system of equations:\n",
    "\n",
    "<br/>\n",
    "<center>\n",
    "**Lab3 System of Equations**\n",
    "\n",
    "$$iv_{00} + iv_{01} + iv_{10} = sr_1$$\n",
    "$$iv_{00} + iv_{11} = sr_2$$\n",
    "$$iv_{01} + iv_{11} = sr_3$$\n",
    "$$iv_{10} + iv_{11} = sr_4$$\n",
    "<br/>\n",
    "\n",
    "How would you represent these equations in terms of a matrix multiplication? Remember, your image vector and sensor vector are both 1D vectors, but your imaging mask should be a matrix. Also recall that we reshape columns of the masking matrix into the masks themselves. That is, the first column of the masking matrix will be reshaped into the first mask.  \n",
    "<center>\n",
    "**<span style=\"color:red\">Create the matrix MH that represents the series of linear equations above.</span>**\n",
    "\n"
   ]
  },
  {
   "cell_type": "code",
   "execution_count": 57,
   "metadata": {
    "collapsed": false
   },
   "outputs": [
    {
     "data": {
      "image/png": "[encoded data removed]",
      "text/plain": [
       "<matplotlib.figure.Figure at 0x91c4e48>"
      ]
     },
     "metadata": {},
     "output_type": "display_data"
    }
   ],
   "source": [
    "##TODO: Create imaging mask for the Lab3 system of equations, MH (dimensions should be 4x4)\n",
    "MH = np.array([[1, 1, 0, 0],\n",
    "               [1, 0, 1, 0],\n",
    "               [1, 0, 0, 1],\n",
    "               [0, 1, 1, 1]])\n",
    "\n",
    "\n",
    "plt.imshow(MH, cmap='gray', interpolation='nearest')\n",
    "plt.show()"
   ]
  },
  {
   "cell_type": "markdown",
   "metadata": {},
   "source": [
    "**To help your understanding, this document will use an example system of equations to show the relationship between the system of linear equations, masking matrix MH, and the masks. The Example System of Equations is shown below:**\n",
    "<br/>\n",
    "<br/>\n",
    "**<span style=\"color:red\">*IMPORTANT* The `Lab3 System of Equations` and the `Example System of Equations` are not at all related. Use the Lab3 System of Equations for all parts of the lab. Use the Example System of Equations as a reference.</span>**\n",
    "<br/>\n",
    "<br/>\n",
    "<center>\n",
    "**Example System of Equations**\n",
    "<center>\n",
    "\n",
    "$$iv_{00} = sr_1$$\n",
    "$$iv_{00} + iv_{01} = sr_2$$\n",
    "$$iv_{00} + iv_{10} = sr_3$$\n",
    "$$iv_{01} + iv_{10} + iv_{11} = sr_4$$\n",
    "<br/>\n",
    "**Imaging Mask for Example System of Equations**\n",
    "<img src=\"http://www-inst.eecs.berkeley.edu/~ee16a/sp15/Labs/imaging/nb_img/sample_4x4.png\" align=\"center\" style=\"height:200px\" />\n",
    "</center>"
   ]
  },
  {
   "cell_type": "markdown",
   "metadata": {},
   "source": [
    "As stated above, we will reshape columns of the masking matrix, MH, into the individual masks themselves. \n",
    "<br/>\n",
    "<br/>\n",
    "<center>\n",
    "**<span style=\"color:red\">Iterate through the 4 individual masks and display them.</span>**\n",
    "<br/>\n",
    "<br/>\n",
    "Hint: Reference your code from last week where you checked to make sure the scanning matrix was producing the correct pattern by displaying each of the 25 individual masks. \n",
    "<br/>\n",
    "<br/>\n",
    "**Individual Masks for the Example System of Equations**\n",
    "<br/>\n",
    "<img src=\"http://www-inst.eecs.berkeley.edu/~ee16a/sp15/Labs/imaging/nb_img/sample_2x2_masks.png\" align=\"center\" style=\"height:200px\" />\n",
    "</center>"
   ]
  },
  {
   "cell_type": "code",
   "execution_count": 33,
   "metadata": {
    "collapsed": false
   },
   "outputs": [
    {
     "data": {
      "image/png": "[encoded data removed]",
      "text/plain": [
       "<matplotlib.figure.Figure at 0x5de0dd8>"
      ]
     },
     "metadata": {},
     "output_type": "display_data"
    }
   ],
   "source": [
    "# Iterate through different masks\n",
    "\n",
    "plt.figure(figsize=(18,12)).suptitle('Individual Masks for Lab3 System of Equations', fontsize=22)\n",
    "for j in range(0,4):\n",
    "    subplot(4,4,j+1)\n",
    "    \n",
    "    ##TODO: Reshape each column\n",
    "    proj = MH.T[j].reshape((2,2))\n",
    "  \n",
    "    plt.imshow(proj,cmap='gray', interpolation='nearest');\n",
    "    title('Mask ' + str(j+1))\n",
    "plt.show()"
   ]
  },
  {
   "cell_type": "markdown",
   "metadata": {},
   "source": [
    "<a id='task2b'></a>\n",
    "##<span style=\"color:blue\">Task 2b: Scaling up the Scanning Matrix</span>\n",
    "\n",
    "We want to scan through our entire image in chunks of 2x2 pixels. To do this, we can extrapolate from our 4x4 MH matrix created above. \n",
    "\n",
    "**<span style=\"color:red\">To scan a 6x8 image what dimensions must our scanning matrix have? What does the number of rows correspond to? What does the number of columns correspond to?</span>**\n",
    "\n",
    "Design the **first 4 columns** of the scanning matrix for the 2x2 pixel area at the top left of the image.  Using the MH matrix for the Lab3 System of Equations, this means the 1st mask will illuminate 3 pixels, the 2nd mask will illuminate 2 pixels, the 3rd mask will illuminate 2 pixels, and the 4th mask will illuminate 2 pixels. \n",
    "\n",
    "**<span style=\"color:red\">Design a 48x4 matrix that represents the first 4 columns of the imaging matrix. </span>** Name it ``Mtx_temp``.\n",
    "\n",
    "*Draw out what Mtx_temp should look like and think about the goal in terms of matrix multiplication. There should be very few pixels in each column that are non-zero. Think about how you should index into Mtx_temp to change those values.*"
   ]
  },
  {
   "cell_type": "code",
   "execution_count": 48,
   "metadata": {
    "collapsed": false
   },
   "outputs": [
    {
     "data": {
      "image/png": "[encoded data removed]",
      "text/plain": [
       "<matplotlib.figure.Figure at 0x83196d8>"
      ]
     },
     "metadata": {},
     "output_type": "display_data"
    }
   ],
   "source": [
    "##TODO: Create Mtx_temp to create images of size M by N (in this case 6x8)\n",
    "M = 6\n",
    "N = 8\n",
    "\n",
    "Mtx_temp = np.zeros(shape = (M * N, 4))\n",
    "for j in range(0, 4):\n",
    "    for i in range(0, 4):\n",
    "        Mtx_temp[i % 2 + i // 2 * N][j] = MH[i][j]\n",
    "        \n",
    "plt.imshow(Mtx_temp, cmap='gray', interpolation='nearest')\n",
    "plt.show()"
   ]
  },
  {
   "cell_type": "markdown",
   "metadata": {},
   "source": [
    "**<span style=\"color:red\">\n",
    "Plot what the 4 different masks would look like (these should be 6x8 images). </span>** Does it make sense? Adjust ``Mtx_temp`` if needed.\n",
    "<br/>\n",
    "<center>\n",
    "<br/>\n",
    "**Example System of Equations**\n",
    "<br/>\n",
    "<img src=\"http://inst.eecs.berkeley.edu/~ee16a/images/imaging_img/Example_masks.JPG\" align=\"center\" style=\"height:200px\" />\n",
    "</center>"
   ]
  },
  {
   "cell_type": "code",
   "execution_count": 49,
   "metadata": {
    "collapsed": false
   },
   "outputs": [
    {
     "data": {
      "image/png": "[encoded data removed]",
      "text/plain": [
       "<matplotlib.figure.Figure at 0x5dad978>"
      ]
     },
     "metadata": {},
     "output_type": "display_data"
    }
   ],
   "source": [
    "figure(figsize=(18,12)).suptitle('Lab3 System of Equations', fontsize=22)\n",
    "for j in range(0,4):\n",
    "    plt.subplot(4,4,j+1)\n",
    "    \n",
    "    ##TODO: Use each column of Mtx_temp to create a 6x8 image\n",
    "    proj = np.reshape(Mtx_temp[:,j], (6,8)) \n",
    "    \n",
    "    plt.imshow(proj,cmap='gray', interpolation='nearest');\n",
    "    title('Mask ' + str(j+1))\n",
    "plt.show()"
   ]
  },
  {
   "cell_type": "markdown",
   "metadata": {},
   "source": [
    "**<span style=\"color:red\">\n",
    "Run the code below to shift and repeat the four columns of Mtx_temp across the entire matrix H. This will create the full 48x48 scanning matrix. </span>** \n",
    "\n",
    "The code will also plot which pixels will be illuminated with each mask, and you can check if your ``Mtx_temp`` was correct!\n"
   ]
  },
  {
   "cell_type": "code",
   "execution_count": 50,
   "metadata": {
    "collapsed": false
   },
   "outputs": [
    {
     "data": {
      "image/png": "[encoded data removed]",
      "text/plain": [
       "<matplotlib.figure.Figure at 0x92e56a0>"
      ]
     },
     "metadata": {},
     "output_type": "display_data"
    }
   ],
   "source": [
    "#Creates matrix H by extending the first 4 columns of the mask to a larger matrix\n",
    "\n",
    "first = True\n",
    "H=[]\n",
    "\n",
    "for i in range(M//2):\n",
    "    k = 2*i*N   \n",
    "    for j in range(N//2):\n",
    "        if first:\n",
    "            H = Mtx_temp\n",
    "            first = False\n",
    "        else:\n",
    "            H = np.hstack((H, np.roll(Mtx_temp, k+2*j, axis=0)))\n",
    "            \n",
    "plt.figure()\n",
    "plt.title(\"Masking Matrix for 6x8 image\")\n",
    "plt.imshow(H, cmap='gray', interpolation='nearest')\n",
    "plt.show()"
   ]
  },
  {
   "cell_type": "markdown",
   "metadata": {},
   "source": [
    "**<span style=\"color:red\">\n",
    "What must be true about the above image to ensure that we scan every pixel at least once? </span>** "
   ]
  },
  {
   "cell_type": "markdown",
   "metadata": {},
   "source": [
    "<a id='task2c'></a>\n",
    "##<span style=\"color:blue\">Task 2c: Real Imaging</span>\n",
    "\n",
    "Finally, we will use our matrix to image a real picture. Because our picture is fairly large, we want each individual mask to have dimensions 30x40 to match the 3:4 aspect ratio of the projector. \n",
    "\n",
    "**<span style=\"color:red\">\n",
    "Create a matrix H that could be used to scan a 30x40 image.</span>**"
   ]
  },
  {
   "cell_type": "code",
   "execution_count": 56,
   "metadata": {
    "collapsed": false,
    "scrolled": true
   },
   "outputs": [
    {
     "data": {
      "image/png": "[encoded data removed]",
      "text/plain": [
       "<matplotlib.figure.Figure at 0x8c94a58>"
      ]
     },
     "metadata": {},
     "output_type": "display_data"
    }
   ],
   "source": [
    "M = 30\n",
    "N = 40\n",
    "\n",
    "##TODO: Create Mtx_temp to create images of size M by N (in this case 30x40)\n",
    "\n",
    "Mtx_temp = np.zeros(shape = (M * N, 4))\n",
    "for j in range(0, 4):\n",
    "    for i in range(0, 4):\n",
    "        Mtx_temp[i % 2 + i // 2 * N][j] = MH[i][j]\n",
    "\n",
    "#Creates the matrix H by extending the 4x4 mask to a larger matrix. Read through this code and try to understand it!\n",
    "first = True\n",
    "H=[]\n",
    "for i in range(M//2):\n",
    "    k=i*2*N\n",
    "    for j in range(N//2):\n",
    "        if first:\n",
    "            H = Mtx_temp\n",
    "            first = False\n",
    "        else:\n",
    "            H = np.hstack((H, np.roll(Mtx_temp, k+2*j, axis=0)))\n",
    "       \n",
    "    \n",
    "#Change this variable to look at more or fewer rows and columns of H\n",
    "num_rows_to_plot = 60\n",
    "\n",
    "plt.figure(figsize=(10,10))\n",
    "plt.imshow(H[0:num_rows_to_plot,0:num_rows_to_plot], cmap='gray', interpolation='nearest')\n",
    "            \n",
    "# Save the mask for use with the projector\n",
    "np.save(\"imaging_mask.npy\", H)\n",
    "plt.show()"
   ]
  },
  {
   "cell_type": "markdown",
   "metadata": {},
   "source": [
    "From the command line (in the current directory), run\n",
    "\n",
    "`python capture_image.py`\n",
    "\n",
    "The script projects patterns based on the masks you designed, `imaging_mask.npy`. The sensor readings will then be saved into an array named `sensor_readings.npy`."
   ]
  },
  {
   "cell_type": "markdown",
   "metadata": {},
   "source": [
    "**<span style=\"color:red\">\n",
    "Recreate the image vector from the sensor readings. Remember, you cannot just use the reshape command this time!\n",
    "</span>**\n",
    "<br/>\n",
    "Hint: Think back to the representation of the imaging system as taking a matrix-vector product. How can we reconstruct the original image?"
   ]
  },
  {
   "cell_type": "code",
   "execution_count": 65,
   "metadata": {
    "collapsed": false
   },
   "outputs": [
    {
     "data": {
      "text/plain": [
       "<matplotlib.image.AxesImage at 0x83a0f60>"
      ]
     },
     "execution_count": 65,
     "metadata": {},
     "output_type": "execute_result"
    },
    {
     "data": {
      "image/png": "[encoded data removed]",
      "text/plain": [
       "<matplotlib.figure.Figure at 0x5d9b630>"
      ]
     },
     "metadata": {},
     "output_type": "display_data"
    }
   ],
   "source": [
    "#WARNING!! If you run multiple scans (by pressing enter at the end of a scan) the sensor_readings0.npy file \n",
    "#  will incrememnt to sensor_readings1.npy, sensor_readings2.npy etc Make sure you read in the correct file. \n",
    "sr = np.load('data/sensor_readings0.npy')#[30*40:]\n",
    "\n",
    "sr = [element - 900 for element in sr]\n",
    "\n",
    "#TODO: Create the image vector from H and sr\n",
    "inv = np.linalg.inv(H)\n",
    "iv = np.dot(sr, inv)\n",
    "\n",
    "#Contrast code\n",
    "m = median(iv)\n",
    "s = std(iv)\n",
    "\n",
    "if s< 20:\n",
    "    s = 20\n",
    "\n",
    "#Display the result\n",
    "plt.figure(figsize=(3,4))\n",
    "plt.imshow(np.reshape(iv,(30,40)), cmap='gray', vmin = m - s, vmax = m + s, interpolation='nearest')"
   ]
  },
  {
   "cell_type": "markdown",
   "metadata": {},
   "source": [
    "How does your image look? Is it the output you expected? If your image does not look as you expect it to, don't worry. Move on to the next task and come back to this part after.\n"
   ]
  },
  {
   "cell_type": "markdown",
   "metadata": {},
   "source": [
    "<a id='task3'></a>\n",
    "##<span style=\"color:blue\">Task 3: Imaging Simulator</span>\n",
    "\n",
    "\n",
    "Many of you have noticed that when the projector is displaying black, there is still a lot of light inside the box. This is a limitation of the projector, and it greatly affects our image quality. \n",
    "\n",
    "The following code runs an imaging simulator, simulate_capture.py. This script uses the `imaging_mask.npy` file (just as capture_image.py does), so make sure you've saved that file in the blocks of code above. The script (digitally) performs the same operations that occur inside the box, however we can control how much background light there is by changing the <span style=\"color:red\">\"Offset = 0\"</span> line. Start by running the code with an offset of 0, and see what happens. The image that we will be \"scanning\" is this playing card:\n",
    "\n",
    "<img src=\"http://inst.eecs.berkeley.edu/~ee16a/images/imaging_img/phantom.jpg\" align=\"center\" style=\"height:200px\" />\n",
    "\n",
    "Does the image resulting from the simulation look ok?\n",
    "\n",
    "Now try increasing the offset to 1000. This is representative of what you might see in the lab when you take a scan. Does this image look familiar? Try to get rid of this effect by modifying sr before you reconstruct iv in the code below.\n",
    "\n",
    "Try to use what you have learned from this simulator to make your physical card scans better (Task 2C). \n"
   ]
  },
  {
   "cell_type": "code",
   "execution_count": 62,
   "metadata": {
    "collapsed": false,
    "scrolled": true
   },
   "outputs": [
    {
     "data": {
      "image/png": "[encoded data removed]",
      "text/plain": [
       "<matplotlib.figure.Figure at 0x5ccc400>"
      ]
     },
     "metadata": {},
     "output_type": "display_data"
    },
    {
     "name": "stdout",
     "output_type": "stream",
     "text": [
      "Raw sensor readings:\n",
      "[ 1066.  1044.  1046. ...,  1052.  1052.  1052.]\n"
     ]
    },
    {
     "data": {
      "text/plain": [
       "<matplotlib.image.AxesImage at 0x5d774e0>"
      ]
     },
     "execution_count": 62,
     "metadata": {},
     "output_type": "execute_result"
    },
    {
     "data": {
      "image/png": "[encoded data removed]",
      "text/plain": [
       "<matplotlib.figure.Figure at 0x5d6f470>"
      ]
     },
     "metadata": {},
     "output_type": "display_data"
    }
   ],
   "source": [
    "#Change this Offset variable to add a background signal to your image simulation\n",
    "\n",
    "%run simulate_capture.py \"Offset = 1000\"\n",
    "\n",
    "sr = np.load('sim_output.npy')\n",
    "print(\"Raw sensor readings:\")\n",
    "print(sr)\n",
    "\n",
    "#Modify sr here!\n",
    "sr = [element - 1000 for element in sr]\n",
    "\n",
    "#TODO: how do we recover iv from sr and H? \n",
    "#iv = \n",
    "iv = np.dot(sr,inv(H))\n",
    "\n",
    "\n",
    "#Contrast code\n",
    "m = mean(iv)\n",
    "s = std(iv)\n",
    "\n",
    "if s< 20:\n",
    "    s = 20\n",
    "\n",
    "#Display the result\n",
    "plt.figure(figsize=(6,10))\n",
    "plt.imshow(np.reshape(iv,(30,40)), cmap='gray', vmin = m - s, vmax = m + s, interpolation='nearest')\n",
    "#plt.imshow(np.reshape(iv,(30,40)), cmap='gray', interpolation='nearest')"
   ]
  },
  {
   "cell_type": "markdown",
   "metadata": {},
   "source": [
    "**<span style=\"color:red\">Provide a brief overview of the differences between the single-pixel and multi-pixel scans. What are the possible causes for the differences? Which scanning modality should theoretically produce better images?</span>**"
   ]
  },
  {
   "cell_type": "markdown",
   "metadata": {},
   "source": [
    "Congratulations on finishing the labs for the Imaging module!!!"
   ]
  },
  {
   "cell_type": "markdown",
   "metadata": {},
   "source": [
    "<a id='task2d'></a>\n",
    "##<span style=\"color:blue\">(Optional) Task 4: Imaging Contest</span>"
   ]
  },
  {
   "cell_type": "markdown",
   "metadata": {},
   "source": [
    "<a id='contest'></a>\n",
    "##<span style=\"color:blue\">(Optional) Contest</span>\n",
    "This section is not required, but if you have additional time after completing the lab and are interested in making a better or more creative image now is your chance! The \"Most Realistic\" and \"Most Creative\" submissions from each lab section will be presented in lecture. You're welcome to submit just one, both, or neither. Submit files by emailing your lab GSI a .zip file. \n",
    "\n",
    "<a id='real'></a>\n",
    "### <span style=\"color:blue\">(Optional) Most Realistic Image</span>\n",
    "Submit the image taken using the lab setup as well one from a phone camera for comparison."
   ]
  },
  {
   "cell_type": "markdown",
   "metadata": {},
   "source": [
    "**Brief description of submission (parameters/method used, etc)**\n",
    "<br/>\n",
    "Scan delay\n",
    "<br/>\n",
    "Solar cell angle (with stand, without, etc)-\n",
    "<br/>\n",
    "Averaging techniques used-"
   ]
  },
  {
   "cell_type": "markdown",
   "metadata": {},
   "source": [
    "<a id='creative'></a>\n",
    "### <span style=\"color:blue\">(Optional) Most Creative Image</span>\n",
    "This is very open ended and could include anything from imaging 3D objects to [alternative visualizations](http://matplotlib.org/gallery.html) (animations, colored plots, etc) of the raw data."
   ]
  },
  {
   "cell_type": "markdown",
   "metadata": {},
   "source": [
    "**Brief description of submission (interesting features, etc)**\n",
    "<br/>"
   ]
  }
 ],
 "metadata": {
  "kernelspec": {
   "display_name": "Python 3",
   "language": "python",
   "name": "python3"
  },
  "language_info": {
   "codemirror_mode": {
    "name": "ipython",
    "version": 3
   },
   "file_extension": ".py",
   "mimetype": "text/x-python",
   "name": "python",
   "nbconvert_exporter": "python",
   "pygments_lexer": "ipython3",
   "version": "3.4.3"
  }
 },
 "nbformat": 4,
 "nbformat_minor": 0
}
