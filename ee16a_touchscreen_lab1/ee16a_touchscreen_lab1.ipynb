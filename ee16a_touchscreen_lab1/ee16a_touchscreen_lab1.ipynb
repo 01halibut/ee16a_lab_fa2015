{
 "cells": [
  {
   "cell_type": "markdown",
   "metadata": {},
   "source": [
    "# Touch Screen Lab 1: LED Fader & Resistive Touch Screen\n",
    "\n",
    "### EECS 16A: Designing Information Devices and Systems I, Fall 2015"
   ]
  },
  {
   "cell_type": "markdown",
   "metadata": {},
   "source": [
    "**Name 1**:\n",
    "\n",
    "**Login**: ee16a-\n",
    "\n",
    "\n",
    "**Name 2**:\n",
    "\n",
    "**Login**: ee16a-"
   ]
  },
  {
   "cell_type": "markdown",
   "metadata": {},
   "source": [
    "## Table of Contents\n",
    "\n",
    "* [Instructions](#instructions)\n",
    "* [Introduction](#intro1)\n",
    "* [Part 1: LED Fader](#part1)\n",
    "    * [Task 1.1: LED Fader Circuit](#task1)\n",
    "    * [Task 1.2: Building the Circuit](#task2)\n",
    "    * [Task 1.3: Fading with MSP430](#task3)\n",
    "* [Part 2: Resistive Touch Screen](#part2)\n",
    "    * [Part 2: Introduction](#intro2)\n",
    "    * [Touch Screen Theory](#tst)\n",
    "    * [Task 2.1: Touch Screen Construction](#task6)\n",
    "    * [Task 2.2: Testing the Circuit](#task2.2)\n",
    "    * [Task 2.3: Touch Screen Processing](#task2.3)"
   ]
  },
  {
   "cell_type": "markdown",
   "metadata": {},
   "source": [
    "<a id='instructions'></a>\n",
    "##Instructions\n",
    "* Complete this lab by filling in all of the required sections, marked with `\"YOUR CODE HERE\"` or `\"YOUR COMMENTS HERE\"`.\n",
    "\n",
    "\n",
    "* When you finish notify your GSI to get get checked off for this lab. Be ready to answer a few questions to show your understanding of each section.\n",
    "\n",
    "\n",
    "* Labs will be graded based on completion for teams of 2 students\n",
    "\n",
    "\n"
   ]
  },
  {
   "cell_type": "markdown",
   "metadata": {},
   "source": [
    "<a id='policies'></a>\n",
    "## Lab Policies\n",
    "* YOU MUST ATTEND THE LAB SECTION YOU ARE ENROLLED IN. If you anticipate missing a section please notify your GSI in advance.\n",
    "\n",
    "* You are required to return all parts checked out at the beginning of the lab section unless told otherwise.\n",
    "\n",
    "* You are free to stay for the full alloted time and hack around with the lab equipment, but please keep the GSI's time in mind and do not work on unrelated assignments.\n",
    "\n",
    "* ** Food and drinks are not allowed in the lab.**\n",
    "\n",
    "* **Clean up, turn off all equipment, and log off of computers before leaving.**"
   ]
  },
  {
   "cell_type": "markdown",
   "metadata": {},
   "source": [
    "<a id='intro1'></a>\n",
    "## Introduction\n",
    "Welcome to the first of two labs in the touch screen module, in which you will build a small LED fader and two different touch screen systems introduced in lecture. \n",
    "\n",
    "In this first lab we will be working with perhaps the simplest circuit that does work - an LED circuit. You will build the circuit yourself, learning how to solder along the way. Then, we will give this circuit fading capabilities using three different techniques: a physical component (potentiometer), the function generator, and using an MSP430. Lastly, you will put your soldering skills to the test and build a resistive touch screen.\n",
    "<br/>\n",
    "\n",
    "<h2>Printed Circuit Boards (PCB)</h2>\n",
    "<img src=\"http://www.engscope.com/wp-content/uploads/2010/02/2LayerStackBare.png\" align=\"center\">\n",
    "<center><span style=\"font-size:9pt;align:center\">Source: http://www.engscope.com/wp-content/uploads/2010/02/2LayerStackBare.png</span></center>\n",
    "\n",
    "Circuit boards can be mass-produced in the form of PCBs. A PCB consists of conducting and non-conducting layers sandwiched together to connect components, along with holes to fix the components to. In the diagram above, as with the PCB we will be working with today, there are only two conducting layers; more complicated PCBs may contain many more. The conductive traces in the PCB we will actually be working on today are shown below in bright green.\n",
    "<br/><br/>\n",
    "\n",
    "<center>\n",
    "<img src=\"http://www-inst.eecs.berkeley.edu/~ee16a/sp15/Labs/touchscreen/nb_img/wk1_pcb_layout.png\" style=\"height:150px; display:inline-block;\">\n",
    "<img src=\"http://www-inst.eecs.berkeley.edu/~ee16a/sp15/Labs/touchscreen/nb_img/wk1_pcb.jpg\" style=\"height:150px; display:inline-block;\">\n",
    "</center>\n",
    "<br/>\n",
    "\n",
    "\n",
    "<h2>Light Emitting Diode (LED)</h2>\n",
    "<center>\n",
    "<img src=\"http://inst.eecs.berkeley.edu/~ee16a/images/touchscreen_img/touch_pics/wk1_LED.png\" style=\"height:70px; display:inline-block;\">\n",
    "<img src=\"http://inst.eecs.berkeley.edu/~ee16a/images/touchscreen_img/touch_pics/LED_circuit_sym.png\" style=\"height:50px; display:inline-block;\">\n",
    "</center>\n",
    "<br/>\n",
    "\n",
    "\n",
    "LEDs are elements that emit light when the voltage drop between its two terminals is above a certain value. Above this threshold, the LED acts as a resistor, but its resistance depends on the current forced through it. Its brightness also depends on the current flowing through the terminals. One thing to note is that the LED is a polarized device, so its two terminals are not identical. The triangular side of the LED symbol and the longer leg of the component is the positive (Anode) terminal of the device, while the flat side of the symbol and the shorter leg of the component corresponds to the negative (Cathode) terminal. In the PCB, the polarity is written as A and C respectively.\n",
    "<br/>\n",
    "\n",
    "<h2>Potentiometer</h2>\n",
    "<center>\n",
    "<img src=\"http://www-inst.eecs.berkeley.edu/~ee16a/sp15/Labs/touchscreen/nb_img/wk1_potentiometer.jpg\" style=\"height:70px; display:inline-block;\">\n",
    "<img src=\"http://www.resistorguide.com/pictures/potentiometer-symbol-american.png\" style=\"height:70px; display:inline-block;\">\n",
    "</center>\n",
    "<br/>\n",
    "\n",
    "A potentiometer is a variable resistor with 3 terminals. As we turn the knob, the value of the resistance between the middle terminal and any of the other terminals change. However, the resistance between the end terminals stay constant. In this lab we will be using a 10k$\\Omega$ potentiometer, whose footprint was used in designing the PCB.\n",
    "\n",
    "<br/>"
   ]
  },
  {
   "cell_type": "markdown",
   "metadata": {},
   "source": [
    "<a id='part1'></a>\n",
    "<h1> Part 1: LED Fader</h1>"
   ]
  },
  {
   "cell_type": "markdown",
   "metadata": {},
   "source": [
    "<a id='task1'></a>\n",
    "##<span style=\"color:blue\">Task 1.1: LED Fader Circuit</span>\n",
    "The PCB provided to you in your supply bag corresponds to the circuit below. Lets analyze the circuit:\n",
    "\n",
    "<center>\n",
    "<img src=\"http://www-inst.eecs.berkeley.edu/~ee16a/sp15/Labs/touchscreen/nb_img/wk1_circuit.png\" align=\"center\" style=\"height:256px\" />\n",
    "</center>"
   ]
  },
  {
   "cell_type": "markdown",
   "metadata": {},
   "source": [
    "**<span style=\"color:red\">Assuming the voltage drop across X1 is [0.7V or higher](https://learn.sparkfun.com/tutorials/diodes/real-diode-characteristics), what is the relationship between the current through X1 ($I_{X1}$) and the resistance of R1. What happens to the LED when R1 is increased?</span>**\n",
    "\n",
    "Because V=IR, increasing the total resistance of the loop by increasing R1 decreases current through X1\n",
    "\n",
    "**<span style=\"color:red\">Can we completely turn off the LED when the power source is on? If so, how? Otherwise, why not?</span>**\n",
    "\n",
    "You can compltetely turn off the LED as increasing R1 to a very high value decreses current flowing through the circuit, which decreases the voltage drop across the LED, and if this falls below the threshold the LED turns off."
   ]
  },
  {
   "cell_type": "markdown",
   "metadata": {},
   "source": [
    "<a id='task2'></a>\n",
    "##<span style=\"color:blue\">Task 1.2: Building the Circuit</span>\n",
    "\n",
    "#### Materials (each group member should have a full set of materials)\n",
    "* PCB\n",
    "* LED\n",
    "* 10k$\\Omega$ potentiometer\n",
    "* 2 male-male wires, stripped on both ends\n",
    "\n",
    "Now that we understand the circuit, we can start building it.\n",
    "<br/>\n",
    "\n",
    "In order to build our circuit we first need to learn an important skill called soldering. Soldering is a process in which two or metal elements are joined together by melting and flowing solder into a joint, see more at http://en.wikipedia.org/wiki/Soldering. It is akin to welding, but at a much lower temperature. Soldering is useful because it enables us to establish an electrical connection between two circuit elements, which gives us the ability to build a complete circuit. \n",
    "<br/>\n",
    "\n",
    "Before you start soldering, here are some important notes:\n",
    "<ul>\n",
    "<li>Remember that the LED is polarized. That means the two terminals are not identical. The longer leg corresponds to the positive terminal while the shorter corresponds to the negative terminal. The PCB labels the two LED terminals as C and A, for Cathode and Anode. Cathode is the negative terminal and Anode is the positive terminal.</li>\n",
    "<li>You also have to solder some wires to the GND and VDD (voltage supply) terminal. To test the circuit, connect these terminals to the Power Supply with a voltage between 3V and 5V. Don't forget to set the current limit!</li>\n",
    "<li>You can use the vice grip at you station to help hold your PCB.</li>\n",
    "</ul>\n",
    "\n",
    "Important names and labels:\n",
    "the <em>soldering iron</em> is the pencil shaped tool that is used to apply heat. \n",
    "<em>Solder</em> is the metal filament that gets melted by the soldering iron and fills the gap between two circuit components. \n",
    "<br/>\n",
    "\n",
    "Soldering steps (repeat these steps for each joint):\n",
    "<ol>\n",
    "<li>Place your desired circuit element into the PCB. We typically place our solder joints underneath our circuit elements, so make sure there is an exposed metal ring surrounding the desired joint on the side of PCB opposite the side the element is resting on. Bend the component lead around 45 degrees to fix it in place.</li>\n",
    "<li>Melt a small blob of solder on the tip of the soldering iron. This is called “tinning the tip” and it improves the transfer of heat from your soldering iron to the component you want soldered.</li>\n",
    "<li>Touch the tip of your soldering iron to the metal ring and component leg at the same time.</li>\n",
    "<li>Feed solder into the joint (not the soldering iron) while this is happening. It should only take a couple of seconds at most to fill the joint with a proper amount of solder.</li>\n",
    "<li>After enough melted solder is present, stop feeding solder and remove the tip from the joint.</li>\n",
    "<li>Clean the tip of the soldering iron my dabbing it in wet sponge.</li>\n",
    "<li>Let the joint cool down for at least 5 seconds and then trim the ends of the wire(s).</li>\n",
    "</ol>\n",
    "<br/>\n",
    "\n",
    "<center>\n",
    "<img src=\"http://www-inst.eecs.berkeley.edu/~ee16a/sp15/Labs/touchscreen/nb_img/wk1_soldering_tips.png\" align=\"center\" style=\"height:500px\" />\n",
    "</center>\n",
    "\n",
    "**<span style=\"color:red\">When you are done soldering, show your GSI that you can fade the LED by twisting the potentiometer (you might need a flat object to do this, such as the corner of your SID card).</span>**\n",
    "\n",
    "\n",
    "Congratulations on your first PCB circuit! We will refine our soldering when we create the resistive touch screen later on in this lab.\n"
   ]
  },
  {
   "cell_type": "markdown",
   "metadata": {},
   "source": [
    "<a id='task3'></a>\n",
    "## <span style=\"color:blue\">Task 1.3: Fading with the MSP430</span>\n",
    "\n",
    "#### Materials\n",
    "* Circuit\n",
    "* MSP430\n",
    "* USB cable\n",
    "\n",
    "The MSP430 can handle fading easily. Connect the MSP430 to the PC, then open the Fading example file included in the zip folder. Connect pin 1.2 to the VDD of the circuit and a GND pin to the GND of the circuit. Upload the file to the board via Energia. You should see the LED fade in and out continuously. If not, try resetting your MSP430 or decreasing the resistance of the potentiometer to increase the brightness of the LED.\n",
    "\n",
    "**<span style=\"color:red\">Show your GSI the fading LED controlled by the MSP430.</span>**\n",
    "\n",
    "Note: The MSP430 actually does not output analog signals - it can only output digital signals (0V and 5V). The fading effect is achieved by something called Pulse Width Modulation. For those of you who are interested in understanding how the MSP430 deals with this, <a href=\"http://arduino.cc/en/Tutorial/PWM\">this tutorial</a> explains the mechanism."
   ]
  },
  {
   "cell_type": "markdown",
   "metadata": {},
   "source": [
    "<a id='part2'></a>\n",
    "<h1>Part 2: Resistive Touch Screen</h1>\n",
    "<a id='intro2'></a>\n",
    "## Introduction\n",
    "In this next part you will build a resistive touch screen. First, you will use the soldering skills you just learned to make a touch screen entirely out of resistors. Then, you will upload MSP430 code to process touches. Next week we will switch gears and build a capacitive touch sensor, which will give you a better understanding of how modern touch screens, such as those found in cellphones, tablets, gaming devices, etc. are implemented.\n",
    "<br/>\n",
    "<a id='tst'></a>\n",
    "## Touch Screen Theory\n",
    "As explained on pages 39-42 in the [Electronics Course Reader](https://d1b10bmlvqabco.cloudfront.net/attach/icgvkl3p4x5m0/gyor3wfgyon205/if0gvqrkz0ue/edogs2.pdf), the basic principle behind a touch screen involves sensing changes in resistance corresponding to a user's touch input as shown below. Resistive touch screens are comprised of two conductive layers, separated by an insulating layer such as air or microbeads. When enough pressure is applied, the conductive layers touch and form a simple circuit called a voltage divider.\n",
    "<center>\n",
    "<img src=\"http://www-inst.eecs.berkeley.edu/~ee16a/sp15/Labs/touchscreen/nb_img/wk2_pen.png\" align=\"center\" style=\"height:200px\" />\n",
    "</center>\n",
    "<br/>\n",
    "\n",
    "The change in resistance is converted to a change in voltage using the voltage divider circuit introduced in lecture:\n",
    "<center>\n",
    "<img src=\"http://www-inst.eecs.berkeley.edu/~ee16a/sp15/Labs/touchscreen/nb_img/wk2_voltage_divider.png\" align=\"center\" style=\"height:200px\" />\n",
    "</center>\n",
    "<br/>\n",
    "Touch screens have two main jobs: 1) detect a touch 2) determine the location of a touch with respect to a predefined origin. The first task is usually accomplished by using a [\"pull-up\" resistor](https://en.wikipedia.org/wiki/Pull-up_resistor). The second task is accomplished by taking advantage of fact that each conductive layer reduces to a voltage divider. \n",
    "\n",
    "Each conductive layer of a touch screen is responsible for determining position in a single axis. Since we setup the touch screen so that these axes are orthogonal, we can successfully determine the Cartesian position of a touch. To detect the position of a touch along a single axis, we must apply a voltage across one conductive layer, and then use the other conductive layer to sense the voltage between the contact point and ground. By applying KCL or KVL, we can determine the relationships below for touching a point along one axis of the circuit, where the \"height\" and width\" correspond to the number of resistors along an axis.\n",
    "<center>\n",
    "<img src=\"http://www-inst.eecs.berkeley.edu/~ee16a/sp15/Labs/touchscreen/nb_img/wk2_drive_sense.png\" align=\"center\" style=\"height:300px\" />\n",
    "</center>\n",
    "<br/>\n",
    "\n",
    "As shown above we can only apply voltage across one axis (drive one axis) at a time, while sensing across the other. It is also important to note that this method requires one wire to be disconnected. In this lab we will begin by manually testing voltages using the multimeter, and afterwards use the MSP430 to rapidly switch the drive and sense axes to get \"real time\" measurements of position along the X and Y axes. "
   ]
  },
  {
   "cell_type": "markdown",
   "metadata": {},
   "source": [
    "<a id='task6'></a>\n",
    "##<span style=\"color:blue\">Task 2.1: Touch Screen Construction</span>\n",
    "We will be building a basic 3x3 touch screen, providing 9 total contact points. The touch screen has two layers or ‘meshes’ of resistors, which we will label Top and Bottom accordingly. The Top mesh (clear plastic) has been provided for you; you will begin by assembling the Bottom mesh, and then complete the touch screen by attaching the top mesh with foam spacers.\n",
    "\n",
    "<h2><span style=\"color:blue\">Task 2.1a: Assemble the Bottom Mesh</span></h2>\n",
    "#### Materials & Equipment (1 set per group)\n",
    "* 1 PCB\n",
    "* 12 2k$\\Omega$ resistors (Red-Black-Red-Gold)\n",
    "* 2 Alligator clips\n",
    "* 4 male-male wires ( > 5 inches in length)\n",
    "* Solder\n",
    "* Precision wire cutters\n",
    "<br>\n",
    "\n",
    "<center style=\"font-size: 18px; font-weight: bold;\">\n",
    "<div style=\"display: inline-block; margin-left: auto; margin-right: auto;\" border=\"0\"><img style=\"height: 250px;\" src=\"http://inst.eecs.berkeley.edu/~ee16a/images/touchscreen_img/touch_pics/bot_front_blank.jpg\"/><div>Front</div></div>\n",
    "<div style=\"display: inline-block; margin-left: 100px; margin-right: auto; margin-bottom: 14px;\" border=\"0\"><img style=\"height: 250px;\" src=\"http://inst.eecs.berkeley.edu/~ee16a/images/touchscreen_img/touch_pics/bot_back_blank.jpg\"/><div>Back</div></div>\n",
    "</center>"
   ]
  },
  {
   "cell_type": "markdown",
   "metadata": {},
   "source": [
    "<p>The PCB has two faces (front and back); we will be placing the resistors on the <em>back</em> face. Arrange the components as in the picture below (the direction of the resistors - polarity - does <em>not</em> matter). Don't forget the two lead wires at locations (0,1) and (2,1). After you place a resistor on the PCB, you may find it helpful to bend the legs of the resistor to hold it in place. You can also use the vice-grip at your station to hold the PCB if you're in need of an extra hand.\n",
    "\n",
    "Turn the board over so you are looking at the front face and solder the joints (9 in total). Trim the ends of the resistors using the wire cutters (ideal joint height is a few millimeters). Be patient and don't rush! Your goal is to produce a PCB like the one below:\n",
    "</p>\n",
    "</br>\n",
    "\n",
    "<center style=\"font-size: 18px; font-weight: bold;\">\n",
    "<div style=\"display: inline-block; margin-left: auto; margin-right: auto;\" border=\"0\"><img style=\"height: 250px;\" src=\"http://inst.eecs.berkeley.edu/~ee16a/images/touchscreen_img/touch_pics/bot_front_solder.jpg\"/><div>Front</div></div>\n",
    "<div style=\"display: inline-block; margin-left: 100px; margin-right: auto; margin-bottom: 14px;\" border=\"0\"><img style=\"height: 250px;\" src=\"http://inst.eecs.berkeley.edu/~ee16a/images/touchscreen_img/touch_pics/bot_back_solder2.jpg\"/><div>Back</div></div>\n",
    "</center>"
   ]
  },
  {
   "cell_type": "markdown",
   "metadata": {
    "collapsed": true
   },
   "source": [
    "<p>Next, solder a free wire to each alligator clip (see image below).</p>\n",
    "<center>\n",
    "<img src=\"http://inst.eecs.berkeley.edu/~ee16a/images/touchscreen_img/touch_pics/clips.jpg\" align=\"center\" style=\"height:200px\" />\n",
    "</center>"
   ]
  },
  {
   "cell_type": "markdown",
   "metadata": {},
   "source": [
    "<a id='task6b'></a>\n",
    "##<span style=\"color:blue\">Task 2.1b: Adding the Top Mesh</span>\n",
    "#### Materials\n",
    "* 4x foam pieces\n",
    "* 1x top mesh (plastic film)\n",
    "</br></br>\n",
    "\n",
    "<p>Once you have finished soldering the bottom PCB, the next step is to attach the PCB to the flexible top mesh. Commercial resistive touch screens usually separate the two layers with microscopic plastic beads; for this lab we will be using pieces of foam. </p>\n",
    "\n",
    "- Orient the PCB so the front is face up.\n",
    "- Stick foam cubes as in the picture below (leave at least 5mm of separation between a joint and foam block). You will need at least the 4 outer cubes; add the two inner cubes if the middle of the plastic screen sags too close to the PCB. Uncover the adhesive on the top of the foam blocks.\n",
    "\n",
    "<center>\n",
    "<img src=\"http://inst.eecs.berkeley.edu/~ee16a/images/touchscreen_img/touch_pics/foam_layout.jpg\" align=\"center\" style=\"height:300px\" />\n",
    "</center>\n",
    "<br/>\n",
    "- Orient the plastic film on top of the PCB so that the ink is facing the solder joints.\n",
    "- Stick the plastic film to the foam blocks, keeping track of alignment.\n",
    "- Attach an alligator clip to the middle of the two ends rows on the plastic film perpendicular to the wires on the PCB (joints (1,0) and (1,2)).\n",
    "\n",
    "<center>\n",
    "<img src=\"http://inst.eecs.berkeley.edu/~ee16a/images/touchscreen_img/touch_pics/sandwich_clips.jpg\" align=\"center\" style=\"height:300px\" />\n",
    "</center>\n",
    "<br/>"
   ]
  },
  {
   "cell_type": "markdown",
   "metadata": {},
   "source": [
    "<a id='task2.2'></a>\n",
    "##<span style=\"color:blue\">Task 2.2: Testing the Circuit</span>\n",
    "\n",
    "#### Materials\n",
    "* Assembled touch screen\n",
    "* 4x test leads\n",
    "* Multimeter\n",
    "* Power supply\n",
    "\n",
    "It’s time to test our touch screen! "
   ]
  },
  {
   "cell_type": "markdown",
   "metadata": {},
   "source": [
    "\n",
    "**<span style=\"color:red\">In order to sense a horizontal position which mesh (top / bottom) will be driven with a voltage source, and which mesh will we measure the voltage across?</span>**"
   ]
  },
  {
   "cell_type": "code",
   "execution_count": null,
   "metadata": {
    "collapsed": true
   },
   "outputs": [],
   "source": [
    "top, bottom"
   ]
  },
  {
   "cell_type": "markdown",
   "metadata": {},
   "source": [
    "**<span style=\"color:red\">For sensing a vertical position, which mesh (top / bottom) will be driven with a voltage source, and which mesh will we measure the voltage across?</span>**"
   ]
  },
  {
   "cell_type": "code",
   "execution_count": null,
   "metadata": {
    "collapsed": true
   },
   "outputs": [],
   "source": [
    "bottom, top"
   ]
  },
  {
   "cell_type": "markdown",
   "metadata": {},
   "source": [
    "\n",
    "</br>\n",
    "###<span style=\"color:red\">Touch Recognition With the Top Mesh</span>\n",
    "- Supply 5V to the bottom mesh by hooking up the Power Supply GND to the (0,1) lead of the PCB and 5V to the (2,1) lead of the PCB. \n",
    "- Hookup the multimeter by clipping the negative multimeter lead to the (0,1) lead of the PCB and clipping the positive multimeter lead to the (1,2) lead of the flex screen.\n",
    "- Push down on the top layer at a particular point and record the output voltage of the Multimeter to 2 decimal places in the \"Top Mesh\" column of the chart below. \n",
    "\n",
    "###<span style=\"color:red\">Touch Recognition With the Bottom Mesh</span>\n",
    "- Supply 5V to the top mesh by hooking up the Power Supply GND to the (1,0) lead of the flex screen and 5V to the (1,2) lead of the flex screen. \n",
    "- Hookup the multimeter by clipping the negative multimeter lead to the (1,0) lead of the flex screen and clipping the positive multimeter lead to the (2,1) lead of the PCB.\n",
    "- Push down on the flex screen at a particular point and record the output voltage of the Multimeter to 2 decimal places in the \"Bottom Mesh\" column of the chart below."
   ]
  },
  {
   "cell_type": "markdown",
   "metadata": {},
   "source": [
    "**<span style=\"color:red\">Complete the table below with the voltages measured at each joint.</span>**\n",
    "<table>\n",
    "  <tr>\n",
    "    <td>**Joint**</td>\n",
    "    <td>**Top Mesh (V)**</td>\n",
    "    <td>**Bottom Mesh (V)**</td>\n",
    "  </tr>\n",
    "  <tr>\n",
    "    <td>**(0,0)**</td>\n",
    "    <td>1.253</td>\n",
    "    <td>1.218</td>\n",
    "  </tr>\n",
    "  <tr>\n",
    "    <td>**(0,1)**</td>\n",
    "    <td>0</td>\n",
    "    <td>2.520</td>\n",
    "  </tr>\n",
    "  <tr>\n",
    "    <td>**(0,2)**</td>\n",
    "    <td>1.254</td>\n",
    "    <td>2.453</td>\n",
    "  </tr>\n",
    "  <tr>\n",
    "    <td>**(1,0)**</td>\n",
    "    <td>2.505</td>\n",
    "    <td>0.194</td>\n",
    "  </tr>\n",
    "  <tr>\n",
    "    <td>**(1,1)**</td>\n",
    "    <td>2.503</td>\n",
    "    <td>2.483</td>\n",
    "  </tr>\n",
    "  <tr>\n",
    "    <td>**(1,2)**</td>\n",
    "    <td>2.505</td>\n",
    "    <td>3.506</td>\n",
    "  </tr>\n",
    "  <tr>\n",
    "    <td>**(2,0)**</td>\n",
    "    <td>3.757</td>\n",
    "    <td>1.258</td>\n",
    "  </tr>\n",
    "  <tr>\n",
    "    <td>**(2,1)**</td>\n",
    "    <td>5.004</td>\n",
    "    <td>2.356</td>\n",
    "  </tr>\n",
    "  <tr>\n",
    "    <td>**(2,2)**</td>\n",
    "    <td>3.754</td>\n",
    "    <td>2.718</td>\n",
    "  </tr>\n",
    "</table>"
   ]
  },
  {
   "cell_type": "markdown",
   "metadata": {},
   "source": [
    "<a id='task2.3'></a>\n",
    "## <span style=\"color:blue\">Task 2.3: Touch Screen Processing</span>\n",
    "Ultimately, we want to be able to determine the precise location of our finger on the screen. While reading voltages off of the multimeter is good for testing purposes, it is slow and not practical for actual usage. We will now use the MSP430 to automate this process.\n",
    "\n",
    "### MSP430 Touch Processing\n",
    "To be consistent with the diagram below, we use the following naming convention: Xneg = (0,1), Xpos = (2,1), Yneg = (1,0), Ypos = (1,2)\n",
    "<center>\n",
    "<img src=\"http://www-inst.eecs.berkeley.edu/~ee16a/sp15/Labs/touchscreen/nb_img/wk2_drive_sense.png\" align=\"center\" style=\"height:200px\" />\n",
    "</center>\n",
    "Use the diagram below to hookup touch screen to the MSP430 (Ypos -> 6.0, Xpos -> 6.1, Xneg -> 6.2, Yneg -> 6.3). You may find it helpful to attach the female-male jumper wires in your supply bag to the ends of each lead. The alligator clips are clipped onto the flex screen only.\n",
    "<center>\n",
    "<br>\n",
    "<center style=\"font-size: 18px; font-weight: bold;\">\n",
    "<div style=\"display: inline-block; margin-left: auto; margin-right: auto;\" border=\"0\"><img style=\"height: 250px;\" src=\"http://inst.eecs.berkeley.edu/~ee16a/images/touchscreen_img/touch_pics/pins.jpg\"/><div>Hookup</div></div>\n",
    "<div style=\"display: inline-block; margin-left: 100px; margin-right: auto; margin-bottom: 14px;\" border=\"0\"><img style=\"height: 250px;\" src=\"http://inst.eecs.berkeley.edu/~ee16a/images/touchscreen_img/touch_pics/full_setup.jpg\"/><div>Full Setup</div></div>\n",
    "</center>"
   ]
  },
  {
   "cell_type": "markdown",
   "metadata": {},
   "source": [
    "Upload the 'touchscreen_processing.ino' file included in the lab folder to the MSP430. Open up the serial monitor (you should see a message stating 'Touch Screen is Ready...'. If not, reset your MSP430). Now, push down on your screen, the serial monitor will tell you which point you are touching.\n",
    "\n",
    "If you see incorrect results, or nothing at all, try one of the following:\n",
    "* Reset your MSP430\n",
    "* Double check your hookups\n",
    "* Test your MSP430 on the Testing Platform (ask TA)\n",
    "* Make sure the ink traces on the flex screen are not scratched or damaged.\n",
    "\n",
    "Congratulations, you have built a functioning touch screen!"
   ]
  },
  {
   "cell_type": "markdown",
   "metadata": {},
   "source": [
    "**<span style=\"color:red\">Look over the code in touchscreen_processing.ino and try to get an idea of what is going on. Be ready to explain how the MSP430 determines the location of a touch.</span>**"
   ]
  },
  {
   "cell_type": "code",
   "execution_count": null,
   "metadata": {
    "collapsed": true
   },
   "outputs": [],
   "source": []
  }
 ],
 "metadata": {
  "kernelspec": {
   "display_name": "Python 3",
   "language": "python",
   "name": "python3"
  },
  "language_info": {
   "codemirror_mode": {
    "name": "ipython",
    "version": 3
   },
   "file_extension": ".py",
   "mimetype": "text/x-python",
   "name": "python",
   "nbconvert_exporter": "python",
   "pygments_lexer": "ipython3",
   "version": "3.4.3"
  }
 },
 "nbformat": 4,
 "nbformat_minor": 0
}
