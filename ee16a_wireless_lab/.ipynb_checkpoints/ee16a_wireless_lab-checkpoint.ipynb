{
 "cells": [
  {
   "cell_type": "markdown",
   "metadata": {},
   "source": [
    "# Wireless Lab: Exploring Frequency Domain\n",
    "\n",
    "### EECS 16A: Designing Information Devices and Systems I, Fall 2015"
   ]
  },
  {
   "cell_type": "markdown",
   "metadata": {},
   "source": [
    "**Name 1**:\n",
    "\n",
    "**Login**: ee16a-\n",
    "\n",
    "\n",
    "**Name 2**:\n",
    "\n",
    "**Login**: ee16a-"
   ]
  },
  {
   "cell_type": "markdown",
   "metadata": {},
   "source": [
    "# Before you begin\n",
    "\n",
    "<span style=\"color:red\">**Attention:**</span> <span style=\"color:blue\">Connect the SDR dongle to your workstation and restart the kernel (click on IPython menu: Kernel > Restart). The base of SDR antenna has a magnet so you can place it securely on the top of the self of your workstation.</span>\n",
    "\n",
    "NOTE: If you'd like to see the pre-lab presentation you can view it [here!](https://docs.google.com/presentation/d/16tWHiB7mIEk5QwA4E4i2S0ogOHgcxEHde5M5PugbetY/edit?usp=sharing)\n"
   ]
  },
  {
   "cell_type": "markdown",
   "metadata": {},
   "source": [
    "## Python imports"
   ]
  },
  {
   "cell_type": "code",
   "execution_count": null,
   "metadata": {
    "collapsed": false,
    "scrolled": true
   },
   "outputs": [],
   "source": [
    "%pylab inline\n",
    "import numpy as np\n",
    "import matplotlib.pyplot as plt\n",
    "from scipy.linalg import circulant\n",
    "import sys\n",
    "# import float division explicitly to have compatibility with Python2\n",
    "from __future__ import division\n",
    "from pprint import pprint\n",
    "from time import time\n",
    "from pylab import *\n",
    "from IPython.display import Audio\n",
    "import scipy.io.wavfile as wf\n",
    "\n",
    "# set the font size for plots\n",
    "plt.rcParams['font.size']=12"
   ]
  },
  {
   "cell_type": "markdown",
   "metadata": {},
   "source": [
    "## Introduction to the frequency domain"
   ]
  },
  {
   "cell_type": "markdown",
   "metadata": {},
   "source": [
    "In this class, we learned about representing **vectors** using different bases; it turns out we can view **functions** as vectors and represent them in different bases using similar tools! As we shall see much more in **EE16B**,  engineers like to talk about periodic signals as combinations of sinusoidal waves, that is, with respect to a basis composed of sinusoids (this is justified by the theory of _linear time invariant systems_ that shows why this is a good way of thinking about signals generally, not just periodic ones). The simplest sinusoids mathematically are the complex exponentials but in this lab, we will be using sine and cosine waves. \n",
    "\n",
    "Run the following block of code to generate a periodic function made up of a constant signal and two sinusoidal functions."
   ]
  },
  {
   "cell_type": "code",
   "execution_count": null,
   "metadata": {
    "collapsed": false
   },
   "outputs": [],
   "source": [
    "t = np.arange(-2,2,1e-3)\n",
    "f1 = ones(size(t))\n",
    "f2 = np.sin(2*np.pi*t)\n",
    "f3 = np.sin(2*np.pi*2*t)\n",
    "\n",
    "y = f1 - f2 + f3\n",
    "\n",
    "figure(figsize=(16,3));\n",
    "plt.plot(t,f1,label='$1$')\n",
    "plt.plot(t,f2,label='$\\sin(2\\pi x)$')\n",
    "plt.plot(t,f3,label='$\\sin(4\\pi x)$')\n",
    "plt.plot(t,y,label='$1 - \\sin(2\\pi x) + \\sin(4\\pi x)$')\n",
    "plt.xlabel('x')\n",
    "plt.xlim([-2,2])\n",
    "plt.ylim([-2,3])\n",
    "\n",
    "plt.legend();"
   ]
  },
  {
   "cell_type": "markdown",
   "metadata": {},
   "source": [
    "In the figure, we have the functions\n",
    "\\begin{align*}\n",
    "    g_1(x) &= 1, \\\\\n",
    "    g_2(x) &= \\sin(2\\pi x), \\\\\n",
    "    g_3(x) &= \\sin(4\\pi x).\n",
    "\\end{align*}\n",
    "\n",
    "If a function $g(x)$ satisfies the relation \n",
    "$$g(x - T) = g(x)$$\n",
    "for all values of $x$, then it is called periodic and the value $T$ is called a period of the function. The smallest of such $T$'s is called the **fundamental period**. In our example, $g_2(x)$ has fundamental period $1$ and $g_3(x)$ has fundamental period $0.5$. For constant functions like $g_1(x)$, the notion of fundamental period does not make sense since they are periodic with all periods. \n",
    "\n",
    "The **fundamental frequency** of a periodic function is defined as the multiplicative inverse of its fundamental period. For example, $g_2(x)$ has fundamental frequency $f_2 = 1/1 = 1$ and $g_3(x)$ has fundamental frequency $f_3 = 1/0.5 = 2$. An intuitive way to see fundamental frequency is if we wait for one second, we will see exactly one complete cycle of the function $g_2(x)$. In one second, we will see exactly two complete cycles of the function $g_3(x)$. In general, we will see exactly the fundamental frequency number of complete cycles in one second. For sinusoids, the fundamental frequency is just referred to as the **frequency** of that sinusoid. For constant functions, the frequency is deemed to be zero. \n",
    "\n",
    "Now that we have defined the frequency of a sinusoidal function, we can reflect more upon the figure. It shows that the superposition of multiple sinusoidal functions that have commensurate periods generates new periodic functions. If you remember the concept of the lower-common-denominator of a set of commensurate numbers, you can understand that the fundamental period and fundamental frequency define an analogous concept for periodic functions. It turns out that using an appropriate superposition of sinusoidal functions (whose frequencies are natural multiples of the fundamental frequency, including zero) you can represent any periodic function (this may require adding infinitely many sinusoidal functions though). The zeroth frequency component is called the **DC** component. The other multiples are called **harmonics** of the fundamental frequency. Harmonics beyond the first harmonic are often called **overtones**, especially in the musical context. \n",
    "\n",
    "Let's explore this using an example. Below is a script that approximates a periodic square wave using different number of sinusoidal functions. \n",
    "\n",
    "**<span style=\"color:red\">Try the values $\\{1,2,3,10,20,100\\}$ for `EXPANSION_ORDER` to change the number of added sinusoidals to approximate the square wave.</span>**"
   ]
  },
  {
   "cell_type": "code",
   "execution_count": null,
   "metadata": {
    "collapsed": false
   },
   "outputs": [],
   "source": [
    "##############################\n",
    "\n",
    "# CHANGE THE EXPANSION ORDER TO SEE THE EFFECT OF ADDING MORE\n",
    "# SINUSOIDAL FUNCTIONS TO YOUR EXPANSION\n",
    "EXPANSION_ORDER = 1;\n",
    "\n",
    "##############################\n",
    "\n",
    "# the time duration within a period where the function is equal to 1\n",
    "DUTYCYCLE = 0.2\n",
    "\n",
    "if DUTYCYCLE >=1:\n",
    "    raise ValueError(\"DUTYCYCLE needs to be less than 1.\")\n",
    "\n",
    "# original signal\n",
    "t = np.arange(-3,3,1e-2)\n",
    "y = ( (t+DUTYCYCLE/2) % 1 <= DUTYCYCLE)\n",
    "figure(figsize=(16,3));\n",
    "plt.plot(t,y);\n",
    "plt.ylim(-0.5,1.5);\n",
    "plt.title('signal of interest')\n",
    "\n",
    "# sinudoidals\n",
    "figure(figsize=(16,3));\n",
    "ztemp = np.ones(len(t))*DUTYCYCLE;\n",
    "plt.plot(t,ztemp);\n",
    "for k in range(EXPANSION_ORDER):\n",
    "    n = k + 1;\n",
    "    # 'an' are the coordinates of your function in the new basis\n",
    "    # they are calculated by taking inner products between the function and your\n",
    "    # basis elements, just like we did in this course.\n",
    "    an = 2/(n*np.pi)*np.sin(n*np.pi*DUTYCYCLE);\n",
    "    ztemp = an*np.cos(2*np.pi*n*t)\n",
    "    plt.plot(t,ztemp);\n",
    "plt.ylim(-0.5,1.5);\n",
    "plt.title('frequency components of the signal');\n",
    "\n",
    "# approximation\n",
    "figure(figsize=(16,3));\n",
    "z = np.ones(len(t))*DUTYCYCLE;\n",
    "for k in range(EXPANSION_ORDER):\n",
    "    n = k + 1;\n",
    "    an = 2/(n*np.pi)*np.sin(n*np.pi*DUTYCYCLE);\n",
    "    z = z + an*np.cos(2*np.pi*n*t)\n",
    "\n",
    "plt.plot(t,z);\n",
    "plt.ylim(-0.5,1.5);\n",
    "plt.title('approximation');"
   ]
  },
  {
   "cell_type": "markdown",
   "metadata": {},
   "source": [
    "**<span style=\"color:red\">How does the resulting function resemble a square wave as `EXPANSION_ORDER` is increased?</span>**\n",
    "\n",
    "> Write your answer here:"
   ]
  },
  {
   "cell_type": "markdown",
   "metadata": {},
   "source": [
    "So how does these relate to vectors and bases?\n",
    "\n",
    "We saw that periodic signals can be represented as a superposition of sinusoidal functions with different frequencies. Hence, we can view the sinusoidal functions coming into the superposition as basis vectors, and their weights as the coordinates! For example, $y(x) = 1 - \\sin(2 \\pi x) + \\sin(4 \\pi x)$ can be represented by $[1, -1, 1]^T$ with respect to your new basis. "
   ]
  },
  {
   "cell_type": "markdown",
   "metadata": {},
   "source": [
    "<a id='task1'></a>\n",
    "## Task 1: Frequencies in Sound\n",
    "\n",
    "Before we move to wireless communication, let's first see the benefits of the **frequency domain** in sound.\n",
    "\n",
    "Run the following code and listen to the audio."
   ]
  },
  {
   "cell_type": "code",
   "execution_count": null,
   "metadata": {
    "collapsed": false
   },
   "outputs": [],
   "source": [
    "(rate, data) = wf.read(\"two_tone.wav\")\n",
    "Audio(data, rate=rate)"
   ]
  },
  {
   "cell_type": "markdown",
   "metadata": {},
   "source": [
    "Can you hear the two tones being played? Let's plot the time domain signal to see what it looks like.\n"
   ]
  },
  {
   "cell_type": "code",
   "execution_count": null,
   "metadata": {
    "collapsed": false,
    "scrolled": true
   },
   "outputs": [],
   "source": [
    "figure(figsize=(16,5))\n",
    "xlabel('time [ms]')\n",
    "ylabel('signal value')\n",
    "title('played tone')\n",
    "# plot the first 3000 entries of data\n",
    "plt.plot(np.arange(0,3000)*1000/rate,data[0:3000]);"
   ]
  },
  {
   "cell_type": "markdown",
   "metadata": {},
   "source": [
    "This is the *time domain* plot; we can see the value of the signal at each moment in time. We can see that the behavior is oscillatory, and you can intuitively see that there are two frequencies of sine waves involved. But what are they?\n",
    "\n",
    "In order to see the frequencies, we are going to use a tool called **Discrete Fourier Tranform** that has been introduced in lecture. The mathematical machinery to find the representation of a signal with respect to sinusoids with different frequencies is very similar in principle to the tools you have used for change of basis in this course. However, for now, consider this tool as a \"black box\" that takes you to and from the frequency domain. This is because there is a fast algorithm for changing bases to the frequency domain known as the \"Fast Fourier Transform\" that is built on a clever divide-and-conquer recursion, but you will have to wait till **170** to learn how exactly it works.  \n",
    "\n",
    "Run the following two blocks of code to see the frequency plot."
   ]
  },
  {
   "cell_type": "code",
   "execution_count": null,
   "metadata": {
    "collapsed": false,
    "scrolled": false
   },
   "outputs": [],
   "source": [
    "#Takes a time domain signal and represents it in the frequency domain\n",
    "def time_to_freq(signal):\n",
    "    return np.fft.rfft(signal)\n",
    "\n",
    "#Takes a frequency domain representation of a signal and return the equivalent time domain signal\n",
    "def freq_to_time(freqs):\n",
    "    return np.fft.irfft(freqs)"
   ]
  },
  {
   "cell_type": "code",
   "execution_count": null,
   "metadata": {
    "collapsed": false
   },
   "outputs": [],
   "source": [
    "frequencies = time_to_freq(data)\n",
    "figure(figsize(16,5))\n",
    "xlabel('frequency [cycles per second]')\n",
    "ylabel('magnitude')\n",
    "title('frequency components of the signal played')\n",
    "frequency_axis = np.fft.rfftfreq(len(data),d=1./rate);\n",
    "plt.xlim([0,600]);\n",
    "plt.plot(frequency_axis,np.abs(frequencies));"
   ]
  },
  {
   "cell_type": "markdown",
   "metadata": {},
   "source": [
    "We can clearly see 2 peaks and even their relative weights! Do not worry about the exact frequency or coefficient values. \n",
    "\n",
    "**<span style=\"color:red\">OPTIONAL -- FOR-FUN-EXERCISE: Can you identify the played [notes](http://www.phy.mtu.edu/~suits/notefreqs.html)?</span>**\n",
    "\n",
    "**<span style=\"color:red\">Play the audio `mystery.wav` file, and try to hear the distinct frequencies.</span>**"
   ]
  },
  {
   "cell_type": "code",
   "execution_count": null,
   "metadata": {
    "collapsed": false
   },
   "outputs": [],
   "source": [
    "(rate2, data2) = wf.read(\"mystery.wav\")\n",
    "Audio(# COMPLETE HERE, # COMPLETE HERE)"
   ]
  },
  {
   "cell_type": "markdown",
   "metadata": {},
   "source": [
    "**<span style=\"color:red\"> Complete the following code, and get both time and frequency domain plots for `mystery.wav`. </span>**"
   ]
  },
  {
   "cell_type": "code",
   "execution_count": null,
   "metadata": {
    "collapsed": false
   },
   "outputs": [],
   "source": [
    "figure(figsize=(16,5))\n",
    "xlabel('time [ms]')\n",
    "ylabel('signal value')\n",
    "title('played tone')\n",
    "# plot the first 1000 entries of data2\n",
    "plt.plot(np.arange(0,1000)*1000/rate2,data2[0:1000]);\n",
    "\n",
    "figure(figsize(16,5))\n",
    "title('frequency components of the signal played')\n",
    "xlabel('frequency [cycles per second]')\n",
    "ylabel('magnitude')\n",
    "frequency_axis = np.fft.rfftfreq(len(data2),d=1./rate2);\n",
    "\n",
    "frequencies2 = # COMPLETE HERE\n",
    "\n",
    "plt.plot(frequency_axis,np.abs(frequencies2));\n",
    "plt.xlim([0,3200]);"
   ]
  },
  {
   "cell_type": "markdown",
   "metadata": {},
   "source": [
    "**<span style=\"color:red\">How many frequencies were there in the original signal?</span>**\n",
    "\n",
    "> Write your answer here:"
   ]
  },
  {
   "cell_type": "markdown",
   "metadata": {},
   "source": [
    "<a id='task2'></a>\n",
    "## Task 2: Listening to Radio \n",
    "\n",
    "**Amplitude modulation (AM)** is one of the simplest methods of wireless transmition of information. Although this method was first developed in the early 20th century, [AM radio stations](http://radio-locator.com/cgi-bin/locate?select=city&city=Berkeley&state=CA&band=Both&dx=0&sort=freq) that exist today use the same technique to transmit audio. Although we can't receive signals from these radio stations deep within the first floor of Cory Hall, we have our own AM transmitter set up in the lab! Before we get into AM radio, let's talk about the tool we will use to receive it."
   ]
  },
  {
   "cell_type": "markdown",
   "metadata": {},
   "source": [
    "<a id='intro'></a>\n",
    "## Software Defined Radio\n",
    "\n",
    "For most of radio’s history, things like tuning to a particular frequency, demodulation, etc. were handled by physical hardware (often with dials to adjust volume, frequency, etc. by physically changing certain resistances or capacitances in the circuit). This meant that a radio’s capabilities were either limited and pre-determined at construction, or buried beneath enough complexity to require licensed operators.\n",
    "\n",
    "**Software Defined Radio (SDR)** shifts most of this complexity to software instead. An SDR still requires some kind of antenna and amplifier. However, it then digitizes the raw data and allows the user to do any further processing on a computer. \n",
    "\n",
    "### How Does it Work?\n",
    "\n",
    "Just like a regular radio, the antenna plugged into your computers captures the radio signals being broadcast. After that, a regular consumer radio would then use complex circuits to convert the data transmitted on that signal into audio that you hear. On the other hand, an SDR simply takes the raw signal and lets your computer handle the rest. The block diagram below shows the components found in a typical SDR.\n",
    "\n",
    "</br>\n",
    "<center>\n",
    "<img src=\"sdrFigure.png\" align=\"center\" style=\"height:100px\" />\n",
    "</center>"
   ]
  },
  {
   "cell_type": "markdown",
   "metadata": {},
   "source": [
    "### Looking For Tones\n",
    "\n",
    "The world is full of radio signals that we can measure, but we have a transmitter in the lab broadcasting the following signal:\n",
    "$$x(t) = \\cos(2 \\pi f_c t) \\left(1 + \\cos(2 \\pi f_1 t)\\right)$$\n",
    "\n",
    "In our setup $f_c = 446 \\;\\text{MHz}$ and $0 \\;\\text{Hz} \\le f_1 \\le 3500 \\;\\text{Hz}$. \n",
    "\n",
    "**<span style=\"color:red\">Simplify the signal $x(t)$ into a sum of cosines or sines (hint: there will be three terms), what are their frequencies? This [wikipedia article](https://en.wikipedia.org/wiki/List_of_trigonometric_identities#Product-to-sum_and_sum-to-product_identities) would be helpful in remembering trig identities.</span>**\n",
    "> Write your answer here: "
   ]
  },
  {
   "cell_type": "markdown",
   "metadata": {},
   "source": [
    "For receiving and decoding radio signals we are going to use the software **SDRSharp** (there is a shortcut to the software on your desktop). SDRSharp is capable of decoding the **raw radio signal** received by the SDR and **converting it into the meaningful audio signal** you hear from the speakers.\n",
    "\n",
    "**<span style=\"color:red\">Open SDRSharp and set the center frequency to the peak near $446 \\;\\text{MHz}$.\n",
    "Select the `AM` option on the left panel and make sure you can hear the audio being transmitted.</span>**\n",
    "\n",
    "**<span style=\"color:red\">Use SDRSharp to determine the frequency $f_1$. To have finer display of frequency information, click `FFT Display` on the left menu and change `resolution` to $65536$. You can zoom in using the slider to the right hand side of the plot.</span>**\n",
    "> Write your answer here:\n",
    "\n",
    "**<span style=\"color:red\">SDRSharp shows two plots in the main interface. What are the axes of the top plot?</span>**\n",
    "> Write your answer here:\n",
    "\n",
    "**<span style=\"color:red\">What does the moving axis of the bottom plot represent?</span>**\n",
    "> Write your answer here:"
   ]
  },
  {
   "cell_type": "markdown",
   "metadata": {},
   "source": [
    "In the rest of this lab, you will implement the steps SDRSharp takes to decode AM signals in Python!\n",
    "\n",
    "### **<span style=\"color:red\">Attention:</span> <span style=\"color:blue\">Before you continue below please close SDRSharp. Otherwise IPython will not be able to connect to the device and throw an error when you try to get readings from the SDR dongle.</span>**\n"
   ]
  },
  {
   "cell_type": "markdown",
   "metadata": {},
   "source": [
    "<a id='task3'></a>\n",
    "## Task 3: Demodulating AM\n",
    "\n",
    "As the name suggests, amplitude modulation encodes information such as audio in the amplitude of another signal. In this section, we are modulating (changing) the amplitude of our $446 \\;\\text{MHz}$ carrier signal based on the audio signal we are transmitting. Assuming that for the signal we wish to transmit $A(t)$, $A(t)+1$ is always positive, we simply multiply this by our carrier frequency to get the equation representing the output of the transmitter:\n",
    "$$y(t) = \\cos(2\\pi f_c t)(A(t)+1).$$ The output results in something like this:\n",
    "\n",
    "<center>\n",
    "<img src=\"http://www-inst.eecs.berkeley.edu/~ee16a/sp15/Labs/wireless/nb_img/wk2_am_example.png\" align=\"center\" style=\"height:200px\" />\n",
    "</center>\n",
    "\n",
    "Intuitively, you should be able to see that all the information in $A(t)$ is still available. The question is how to get it out. \n",
    "\n",
    "After amplifying the signal received by the antenna, the SDR applies the series of operations: \n",
    "* First, it multiplies the received signal separately by a sine and a cosine. (This corresponds to multiplication by a complex exponential.)\n",
    "* Next, the SDR applies a low pass filter and finally converts the continuous time waveform into digital values that can be read by the computer. \n",
    "\n",
    "The output of the **`get_samples`** function returns complex numbers (where the sine channel corresponds to the imaginary part) resulting from the operations shown above.\n",
    "\n",
    "**<span style=\"color:red\">Run the following 4 blocks of code below to gather samples from the SDR and plot them.</span>**"
   ]
  },
  {
   "cell_type": "code",
   "execution_count": null,
   "metadata": {
    "collapsed": false,
    "scrolled": true
   },
   "outputs": [],
   "source": [
    "from rtlsdr import RtlSdr\n",
    "\n",
    "# This line of code is to fix if the SDR was not closed properly\n",
    "try:\n",
    "    sdr.close()\n",
    "except:\n",
    "    pass\n",
    "\n",
    "SAMPLE_RATE = 2.4e6\n",
    "SAMPLE_TIME = 3\n",
    "CENTER_FREQ = 446e6\n",
    "AUDIO_RATE = 44100\n",
    "SDR_GAIN = 40\n",
    "\n",
    "CHUNK = 1024"
   ]
  },
  {
   "cell_type": "code",
   "execution_count": null,
   "metadata": {
    "collapsed": false,
    "scrolled": true
   },
   "outputs": [],
   "source": [
    "\"\"\"\n",
    "This connects to your sdr and returns the samples it receives.\n",
    "\"\"\"\n",
    "def get_samples(sampling_time):\n",
    "    # SDR object\n",
    "    sdr = RtlSdr()\n",
    "    \n",
    "    # setup the SDR options\n",
    "    sdr.sample_rate = SAMPLE_RATE\n",
    "    sdr.gain = SDR_GAIN\n",
    "    sdr.center_freq = CENTER_FREQ\n",
    "    \n",
    "    # capture the signal\n",
    "    print('Reading samples...')\n",
    "    # execute the print statement immediately\n",
    "    # if this function is not called, python will print \n",
    "    # after function completes\n",
    "    sys.stdout.flush() \n",
    "    start = time()\n",
    "    samples = sdr.read_samples(SAMPLE_RATE*sampling_time)\n",
    "    dt = time() - start\n",
    "    print('Done reading. Time taken: ' + str(dt))\n",
    "    \n",
    "    sdr.close()\n",
    "    return samples\n",
    "\n",
    "\"\"\"\n",
    "This function takes in samples, downsamples them to audio rate, \n",
    "and then returns the audio player.\n",
    "\"\"\"\n",
    "def play(samples):\n",
    "    # the samples are at rate SAMPLE_RATE which is much larger than what we need\n",
    "    # we decrease the rate to AUDIO_RATE\n",
    "    x = np.round(np.arange(0,len(audio),SAMPLE_RATE/AUDIO_RATE))\n",
    "    x = x.astype(int)\n",
    "    decaudio = audio[x]\n",
    "    # return the audio player\n",
    "    return Audio(decaudio, rate=AUDIO_RATE)"
   ]
  },
  {
   "cell_type": "code",
   "execution_count": null,
   "metadata": {
    "collapsed": false,
    "scrolled": true
   },
   "outputs": [],
   "source": [
    "# Record SAMPLE_TIME seconds of samples from the radio\n",
    "samples = get_samples(SAMPLE_TIME)"
   ]
  },
  {
   "cell_type": "code",
   "execution_count": null,
   "metadata": {
    "collapsed": false,
    "scrolled": true
   },
   "outputs": [],
   "source": [
    "PLOT_START_INDEX = 100000\n",
    "NUMBER_OF_SAMPLES = 7000\n",
    "PLOT_END_INDEX = PLOT_START_INDEX + NUMBER_OF_SAMPLES\n",
    "\n",
    "plt.figure(figsize=(16,6));\n",
    "time_axis = np.arange(0,NUMBER_OF_SAMPLES)/SAMPLE_RATE;\n",
    "plt.plot(time_axis*1000,np.real(samples[PLOT_START_INDEX:PLOT_END_INDEX]), label='real');\n",
    "plt.plot(time_axis*1000,np.imag(samples[PLOT_START_INDEX:PLOT_END_INDEX]),'r', label='imaginary');\n",
    "# limit the plot window to see the signal clearly\n",
    "plt.xlim([0,time_axis[-1]*1000])\n",
    "plt.legend();\n",
    "plt.ylabel('value')\n",
    "plt.xlabel('time [ms]')\n",
    "plt.title(\"real and imaginary components of raw samples\");"
   ]
  },
  {
   "cell_type": "markdown",
   "metadata": {},
   "source": [
    "**<span style=\"color:red\">Does the amplitude seem to vary as we expect?</span>**\n",
    "> Write your answer here:"
   ]
  },
  {
   "cell_type": "markdown",
   "metadata": {},
   "source": [
    "Wireless transmissions are almost always corrupted by noise. In this application, we can literally hear in SDRSharp the undesired sounds such as static or high pitched tones in addition to the music we expect to hear.\n",
    "\n",
    "In order to address this, we will utilize the moving average **low pass filter**\n",
    "$$y[n] = \\frac{x[n-L] + \\cdots + x[n] + \\cdots + x[n+L]}{2L+1}.$$\n",
    "Adding a filter that eliminates tones (frequencies) outside the range of human hearing will make the final output sound much more like the music we expect to hear:\n",
    "\n",
    "Intuitively, a moving average replaces each value with its average with the points around it. Hence, it \"smooths\" the signal in the sense that it eliminates rapid transitions; in the case of a high frequency sine or cosine which changes its value very rapidly over time, our moving average could largely eliminate it. (In particular, if the moving average is the same length as an integer multiple of periods of the cosine, it would entirely eliminate it.)"
   ]
  },
  {
   "cell_type": "markdown",
   "metadata": {},
   "source": [
    "The following code will help understand how moving average eliminate high frequencies. Remember in lecture where we studied the **eigenvectors of circulant matrices and found out that they were tones**. \n",
    "\n",
    "Let us look at the **circulant matrix $H$ that represents a moving average**. Since it is a circulant matrix, tones are its eigenvectors. In the following, we have a moving average filter that takes the average of `LENFILT` consecutive entries of the signal. We multiply the circulant matrix by a sinusoidal `v` with **frequency $K$ times a chosen fundamental frequency (frequency increases with $K$)**. Look at the output $y = Hv$ in the following plot. Do you see that sinusoidals are eigenvectors of $H$?\n",
    "\n",
    "The second plot below shows the frequency components of the moving average filter (calculated by the same way as we have done for frequencies of audio above).\n",
    "\n",
    "**<span style=\"color:red\">Change the value of $K$ between $\\{0,1,2,\\cdots,31\\}$. Can you observe a relationship between its values and the eigenvalues of $H$? (Hint: What do red lines correspond to?)</span>**\n",
    "> Write your answer here: "
   ]
  },
  {
   "cell_type": "code",
   "execution_count": null,
   "metadata": {
    "collapsed": false
   },
   "outputs": [],
   "source": [
    "##############################\n",
    "\n",
    "# choose an odd number for the filter length\n",
    "LENFILT = 11;\n",
    "# choose input sinusoidal frequency from {0,1,2,...,31}\n",
    "K = 3;\n",
    "\n",
    "##############################\n",
    "\n",
    "TOTALLENGTH = 64;\n",
    "\n",
    "# time domain: moving average filter\n",
    "ma_time = np.pad(np.ones(LENFILT)/LENFILT,(0,TOTALLENGTH-LENFILT),'constant')\n",
    "ma_time = np.roll(ma_time,-LENFILT//2+1)\n",
    "\n",
    "# frequency domain: moving average filter\n",
    "ma_freq = time_to_freq(ma_time)\n",
    "\n",
    "# the circulant matrix corresponding to moving average filter\n",
    "H = circulant(ma_time)\n",
    "\n",
    "# fundamental frequency\n",
    "F0 = 1/TOTALLENGTH;\n",
    "\n",
    "# time indices\n",
    "time_n = np.arange(0,TOTALLENGTH)\n",
    "# input: a sinusoid that has frequency K times the fundamental frequency\n",
    "v = np.sin(2*np.pi*F0*K*time_n)\n",
    "\n",
    "# output: sinusoid multiplied by the matrix H\n",
    "y = np.dot(H,v)\n",
    "\n",
    "figure(figsize=(16,3))\n",
    "plt.ylim([-1.1,1.1]);\n",
    "plt.xlim([0,TOTALLENGTH-1])\n",
    "plt.plot(v,label='input: $v$')\n",
    "plt.plot(y,label='output: $y = Hv$');\n",
    "plt.plot((0, TOTALLENGTH), (np.real(ma_freq[K]), np.real(ma_freq[K])), 'r-')\n",
    "plt.xlabel('time index n');\n",
    "plt.ylabel('value');\n",
    "plt.title('time domain input and output');\n",
    "plt.legend();\n",
    "\n",
    "\n",
    "plt.figure(figsize=(16,3));\n",
    "\n",
    "plt.xlabel('K');\n",
    "plt.ylabel('response');\n",
    "plt.title('frequency response of moving average')\n",
    "plt.xlim([0,TOTALLENGTH/2]);\n",
    "plt.plot(np.real(ma_freq));\n",
    "plt.plot((K, K), (-1, 1), 'r-');\n",
    "plt.plot((0, TOTALLENGTH/2), (np.real(ma_freq[K]), np.real(ma_freq[K])), 'r-');"
   ]
  },
  {
   "cell_type": "markdown",
   "metadata": {},
   "source": [
    "**<span style=\"color:red\">See that the `low_pass` function does the averaging operation described above.</span>**"
   ]
  },
  {
   "cell_type": "code",
   "execution_count": null,
   "metadata": {
    "collapsed": true
   },
   "outputs": [],
   "source": [
    "def low_pass(sig, num_samples):\n",
    "    \"\"\" Apply a moving average low pass filter to the input.\n",
    "    Args:\n",
    "    sig (np.ndarray): input signal to be filtered\n",
    "    num_samples (int): number of values to average\n",
    "    \n",
    "    Returns:\n",
    "    (np.ndarray): filtered values\n",
    "    \"\"\"\n",
    "    ret = np.cumsum(sig)\n",
    "    ret[num_samples:] = ret[num_samples:] - ret[:-num_samples]\n",
    "    return ret[num_samples - 1:] / num_samples"
   ]
  },
  {
   "cell_type": "markdown",
   "metadata": {},
   "source": [
    "**<span style=\"color:red\">Run the code below to apply your low pass filter to the signal and plot the output.</span>**"
   ]
  },
  {
   "cell_type": "code",
   "execution_count": null,
   "metadata": {
    "collapsed": false,
    "scrolled": true
   },
   "outputs": [],
   "source": [
    "low_passed = low_pass(samples, 15)\n",
    "\n",
    "plt.figure(figsize=(16,6))\n",
    "plt.plot(time_axis*1000,np.real(low_passed[PLOT_START_INDEX:PLOT_END_INDEX]), label=\"Real\");\n",
    "plt.plot(time_axis*1000,np.imag(low_passed[PLOT_START_INDEX:PLOT_END_INDEX]),'r', label=\"Imaginary\");\n",
    "# limit the plot window to see the signal clearly\n",
    "plt.xlim([0,time_axis[-1]*1000])\n",
    "plt.legend();\n",
    "plt.title(\"real and imaginary components of filtered samples\");\n",
    "plt.xlabel('time [ms]')"
   ]
  },
  {
   "cell_type": "markdown",
   "metadata": {},
   "source": [
    "As explained above, the slow variation in the envelope of the high frequency signal corresponds to the audio that we're actually interested in."
   ]
  },
  {
   "cell_type": "markdown",
   "metadata": {},
   "source": [
    "**<span style=\"color:red\">Based on your observations above and the discussion of AM, the function `demodulate_am` below to extract the audio signal from the output of the low pass filter.</span>**"
   ]
  },
  {
   "cell_type": "code",
   "execution_count": null,
   "metadata": {
    "collapsed": false,
    "scrolled": true
   },
   "outputs": [],
   "source": [
    "def demodulate_am(samp):\n",
    "    \"\"\" Demodulate AM.\n",
    "    \n",
    "    Args:\n",
    "    samp (np.ndarray): samples from the SDR\n",
    "    \n",
    "    Returns:\n",
    "    (np.ndarray): \n",
    "    \"\"\"\n",
    "    # we detect the envelope\n",
    "    demod = np.abs(samp)\n",
    "    \n",
    "    # We don't know that the input signal (and therefore your demodulated signal)\n",
    "    # are centered about zero.\n",
    "    # In order to make sure the speakers can play the audio, \n",
    "    # we make sure that your output is centered around zero.\n",
    "    return demod - np.average(demod)"
   ]
  },
  {
   "cell_type": "code",
   "execution_count": null,
   "metadata": {
    "collapsed": false,
    "scrolled": false
   },
   "outputs": [],
   "source": [
    "plt.figure(figsize=(16,6))\n",
    "plt.plot(demodulate_am(low_passed[PLOT_START_INDEX:PLOT_END_INDEX]), label=\"demod\")\n",
    "plt.legend()"
   ]
  },
  {
   "cell_type": "code",
   "execution_count": null,
   "metadata": {
    "collapsed": false,
    "scrolled": true
   },
   "outputs": [],
   "source": [
    "audio = demodulate_am(low_passed)\n",
    "audio = audio/(2*max(audio))\n",
    "\n",
    "play(audio)"
   ]
  },
  {
   "cell_type": "markdown",
   "metadata": {},
   "source": [
    "**<span style=\"color:red\">OPTIONAL -- FOR FUN: Ask your lab TA to play a song on the radio for you. What is the song that is playing? Accompany the recovered sound with the appropriate video played in silent mode.</span>**"
   ]
  }
 ],
 "metadata": {
  "kernelspec": {
   "display_name": "Python 3",
   "language": "python",
   "name": "python3"
  },
  "language_info": {
   "codemirror_mode": {
    "name": "ipython",
    "version": 3
   },
   "file_extension": ".py",
   "mimetype": "text/x-python",
   "name": "python",
   "nbconvert_exporter": "python",
   "pygments_lexer": "ipython3",
   "version": "3.4.3"
  }
 },
 "nbformat": 4,
 "nbformat_minor": 0
}
