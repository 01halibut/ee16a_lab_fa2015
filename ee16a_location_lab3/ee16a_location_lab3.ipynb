{
 "cells": [
  {
   "cell_type": "markdown",
   "metadata": {
    "collapsed": true,
    "tags": [
     "worksheet-0"
    ]
   },
   "source": [
    "# Locationing Lab 3: Finding Locations with Least Squares\n",
    "\n",
    "### EE16A: Designing Information Devices and Systems I"
   ]
  },
  {
   "cell_type": "markdown",
   "metadata": {
    "collapsed": true,
    "tags": [
     "worksheet-0"
    ]
   },
   "source": [
    "**Name 1:**\n",
    "\n",
    "**Login:** ee16a-\n",
    "\n",
    "**Name 2:**\n",
    "\n",
    "**Login:** ee16a-"
   ]
  },
  {
   "cell_type": "markdown",
   "metadata": {
    "collapsed": true,
    "tags": [
     "worksheet-0"
    ]
   },
   "source": [
    "####[Pre-Lab Presentation](https://docs.google.com/presentation/d/1zgadgyaceLn2_ypSWYMyzGoRi4I0ddLDMIt44KC079k/edit?usp=sharing)\n",
    "####[Introduction](#w3)\n",
    "####[Task 0: Importing Weeks 1 & 2 Code](#task0)\n",
    "####[Multilateration: Finding linear relationships of positions given time differences](#q31)\n",
    "####[Task 1: Constructing the System of Equations](#task1)\n",
    "####[Task 2: Using Least Squares](#task2)\n",
    "####[Task 3: Testing with the Microphone](#task3)"
   ]
  },
  {
   "cell_type": "markdown",
   "metadata": {
    "collapsed": true,
    "tags": [
     "worksheet-0"
    ]
   },
   "source": [
    "<a id='w3'></a>\n",
    "## Introduction\n",
    "\n",
    "In the past two weeks we introduced the signal processing part for our lab and obtained the TDOA's (Time Difference Of Arrivals) of different beacon signals. This week we are going to explore methods that help us determine the final location."
   ]
  },
  {
   "cell_type": "markdown",
   "metadata": {
    "collapsed": true,
    "tags": [
     "worksheet-0"
    ]
   },
   "source": [
    "<a id='task0'></a>\n",
    "# <span style=\"color:blue\">Task 0: Importing Weeks 1 & 2 Code</span>\n",
    "\n",
    "This lab will build upon the functions you wrote in weeks 1 and 2.\n",
    "<br/>\n",
    "**<span style=\"color:red\">\n",
    "Copy the functions from previous labs into the cells below.\n",
    "</span>**\n",
    "<br/>\n",
    "Alternatively if you have them saved in a `.py` file you can replace the cell below with the command: \n",
    "`%run [path_to_your_file].py`. \n",
    "This is the same syntax used to import the helper functions above."
   ]
  },
  {
   "cell_type": "code",
   "execution_count": null,
   "metadata": {
    "collapsed": false,
    "tags": [
     "worksheet-0"
    ]
   },
   "outputs": [],
   "source": [
    "%pylab inline\n",
    "from __future__ import division\n",
    "import random\n",
    "import math\n",
    "from IPython import display\n",
    "\n",
    "# Importing helper functions\n",
    "%run support_code/virtual.py\n",
    "%run support_code/signals.py\n",
    "%run support_code/demod.py"
   ]
  },
  {
   "cell_type": "markdown",
   "metadata": {},
   "source": [
    "**<span style=\"color:red\">\n",
    "Use the built-in `cross_correlation` function instead of your own function in lab1\n",
    "</span>**"
   ]
  },
  {
   "cell_type": "code",
   "execution_count": null,
   "metadata": {
    "collapsed": false,
    "tags": [
     "worksheet-0"
    ]
   },
   "outputs": [],
   "source": [
    "# Week 1 Functions\n",
    "def cross_correlation(signal1, signal2):\n",
    "    \"\"\"Compute the cross_correlation of two given signals    \n",
    "    Args:\n",
    "    signal1 (np.array): input signal 1\n",
    "    signal2 (np.array): input signal 2\n",
    "    \n",
    "    Returns:\n",
    "    cross_correlation (np.array): cross-correlation of signal1 and signal2\n",
    "    \n",
    "    >>> cross_correlation([0, 1, 2, 3, 3, 2, 1, 0], [0, 2, 3, 0])\n",
    "    [0, 0, 3, 8, 13, 15, 12, 7, 2, 0, 0]\n",
    "    >>> cross_correlation([0, 2, 3, 0], [0, 1, 2, 3, 3, 2, 1, 0])\n",
    "    [0, 0, 2, 7, 12, 15, 13, 8, 3, 0, 0]\n",
    "    \"\"\"\n",
    "    return numpy.convolve(signal1, signal2[::-1]) \n",
    "\n",
    "def identify_peak(signal):\n",
    "    \"\"\"Returns the index of the peak of the given signal.\n",
    "    Args:\n",
    "    signal (np.array): input signal\n",
    "    \n",
    "    Returns:\n",
    "    index (int): index of the peak\n",
    "    \n",
    "    >>> identify_peak([1, 2, 5, 7, 12, 4, 1, 0])\n",
    "    4\n",
    "    >>> identify_peak([1, 2, 2, 199, 23, 1])\n",
    "    3\n",
    "    \"\"\"\n",
    "    # BEGIN SOLUTION\n",
    "    \n",
    "    # END SOLUTION"
   ]
  },
  {
   "cell_type": "code",
   "execution_count": 1,
   "metadata": {
    "collapsed": false,
    "tags": [
     "worksheet-0"
    ]
   },
   "outputs": [],
   "source": [
    "# Week 2 functions\n",
    "def separate_signal(raw_signal):\n",
    "    \"\"\"Separate the beacons by computing the cross correlation of the raw demodulated signal \n",
    "    with the known beacon signals.\n",
    "    \n",
    "    Args:\n",
    "    raw_signal (np.array): raw demodulated signal from the microphone composed of multiple beacon signals\n",
    "    \n",
    "    Returns (list): each entry should be the cross-correlation of the signal with one beacon\n",
    "    \"\"\"\n",
    "    # BEGIN SOLUTION\n",
    "    \n",
    "    # END SOLUTION\n",
    "    \n",
    "def average_signal(separated):\n",
    "    beacon_length = len(beacon0)\n",
    "    num_repeat = len(separated) // beacon_length\n",
    "    averaged = np.mean(np.abs(separated[0 : num_repeat * beacon_length]).reshape((num_repeat, beacon_length)), 0)\n",
    "    return averaged\n",
    "\n",
    "def signal_generator(x, y, noise=0):\n",
    "    raw_signal = add_random_noise(simulate_by_location(x, y), noise)\n",
    "    return demodulate_signal(raw_signal)\n",
    "\n",
    "def identify_offsets(averaged):\n",
    "    \"\"\" Identify the difference in samples between the samples.\n",
    "    The peaks of the signals are shifted to the center.\n",
    "    \n",
    "    Args:\n",
    "    averaged (list): a python list in which each entry is a numpy array (e.g. output of average_signal)\n",
    "    \n",
    "    Returns: (list) a list corresponding to the offset of each signal in the input\n",
    "    \"\"\"\n",
    "    # Reshaping (shifting) the input so that all of our peaks are centered about the peak of beacon0\n",
    "    peak = identify_peak(averaged[0])\n",
    "    shifted = [np.roll(avg, len(averaged[0]) // 2 - peak) for avg in averaged]\n",
    "    ##### DO NOT CHANGE THE CODE ABOVE THIS LINE ####\n",
    "    \n",
    "    # SHIFTED represents all of the signals shifted so that they are centered about the peak of beacon0\n",
    "    # Use SHIFTED to determine the offsets\n",
    "    # Consider what the offset for beacon0 should be\n",
    "    \n",
    "    # BEGIN SOLUTION\n",
    "    \n",
    "    # END SOLUTION\n",
    "\n",
    "# --Offsets to distances--\n",
    "def offset_to_time(offsets, sampling_freq):\n",
    "    \"\"\" Convert a list of offsets to a list of TDOA's\n",
    "   \n",
    "    Args:\n",
    "    offsets (list): list of offests in samples\n",
    "    sampling_freq (int): sampling frequency in Hz\n",
    "    \n",
    "    Returns: (list) a list of TDOAs corresponding to the input offsets\n",
    "    \"\"\"\n",
    "    # BEGIN SOLUTION\n",
    "    \n",
    "    # END SOLUTION\n",
    "    \n",
    "def signal_to_offsets(raw_signal):\n",
    "    \"\"\" Compute a list of offsets from the microphone to each speaker.\n",
    "    \n",
    "    Args:\n",
    "    raw_signal (np.array): raw demodulated signal from the microphone (e.g. no separation, averaging, etc).\n",
    "    \n",
    "    Returns (list): offset for each beacon (beacon0, beacon1, etc). in samples\n",
    "    \"\"\"\n",
    "    # BEGIN SOLUTION\n",
    "    \n",
    "    # END SOLUTION\n",
    "\n",
    "def signal_to_distances(raw_signal, t0):\n",
    "    \"\"\" Returns a list of distancs from the microphone to each speaker.\n",
    "    \n",
    "    Args:\n",
    "    signal (np.array): recorded signal from the microphone\n",
    "    t0 (float): reference time for beacon0 in seconds\n",
    "    \n",
    "    Returns (list): distances to each of the speakers (beacon0, beacon1, etc). in meters\n",
    "    \"\"\"\n",
    "    # BEGIN SOLUTION\n",
    "    \n",
    "    # END SOLUTION"
   ]
  },
  {
   "cell_type": "markdown",
   "metadata": {
    "collapsed": true,
    "tags": [
     "worksheet-0"
    ]
   },
   "source": [
    "<a id='q31'></a>\n",
    "# Multilateration: Finding linear relationships of positions given time differences.\n",
    "\n",
    "Multilateration is a technique widely used in locationing systems to precisely locate a receiver by measuring the time difference of arrivals (TDOAs) from several synchronized *Beacons* at one receiver location.\n",
    "\n",
    "Suppose we have $n$ beacons $B_0$, $B_1$, ... $B_{n - 1}$, so the position of a beacon $B_m$ in the 2-D plane will be $B_m = (x_m, y_m)$. These positions are known. We also have a receiver $R$ with unknown position $(x, y)$ in the same plane. Let $R_m$ denote the distance of $B_m$ to $R$, $R_m = \\sqrt{(x - x_m)^2 + (y - y_m)^2}$. \n",
    "\n",
    "For simplification, in this lab we set the first beacon $B_0$ at position (0, 0), as a reference. We also let $\\tau_1$, $\\tau_2$ ... $\\tau_{n - 1}$ denote the TDOA's.\n",
    "\n",
    "Recall from last week that we find the distances from speakers to the microphone with the arrival time of the first beacon $t_0$. However in a real application like GPS finding $t_0$ is impossible. Thus we are unable to get the exact distances from the speakers to the microphone. Instead of obtaining circles as we got last week, we are only able to get hyperbolic solutions, which is explained below.\n",
    "\n",
    "**Setting up n-1 hyperbolic equations:** Luckily we can still find the relationship of position $R = (x, y)$ and $B_m = (x_m, y_m)$ with some calculations. Let $v_s$ be the speed of sound and $R_0$ be the distance between $R$ and Beacon $B_0$, which we have positioned at the origin. We can setup our initial equation using the fact distance is the speed of sound multiplied by the time of travel:\n",
    "\n",
    "$$R_m - R_0 = v_s \\tau_m \\qquad \\text{multiply this by } R_m + R_0 \\qquad (R_m - R_0)(R_m + R_0) = v_s \\tau_m (R_m + R_0)\\text{ ...} $$\n",
    "\n",
    "$$v_s\\tau_m = \\frac{{R_m}^2 - {R_0}^2}{v_s\\tau_m} - 2R_0 \\qquad \\text{ sub in $R_m(x,y)$} $$\n",
    "\n",
    "$$v_s\\tau_m = \\frac{(x-x_m)^2 + (y-y_m)^2 - x^2 - y^2}{v_s\\tau_m} - 2 \\sqrt{x^2 + y^2}$$\n",
    "\n",
    "$$v_s\\tau_m = \\frac{-2x_mx + {x_m}^2 -2y_my + {y_m}^2}{v_s\\tau_m} - 2 \\sqrt{x^2 + y^2} $$\n",
    "\n",
    "The code below shows an example of how the hyperbolic equation above is applied to three of four received beacon signals (recall that $B_0$ is our reference). Their intersection marks the location of the microphone."
   ]
  },
  {
   "cell_type": "code",
   "execution_count": null,
   "metadata": {
    "collapsed": true
   },
   "outputs": [],
   "source": [
    "def draw_hyperbola(p1, p2, d): #hyperbola drawing function\n",
    "    p1=np.matrix(p1)\n",
    "    p2=np.matrix(p2)\n",
    "    pc=0.5*(p1+p2)\n",
    "    p21=p2-p1\n",
    "    d21=np.linalg.norm(p21)   \n",
    "    th=np.array(np.matrix(list(range(-49,50)))*pi/100) #radian sweep list\n",
    "    a=d/2\n",
    "    b=((d21/2)**2-(a)**2)**0.5\n",
    "    x=a/np.cos(th)\n",
    "    y=b*np.tan(th) #hyperbola can be represented as (d*sec(th),d*tan(th))\n",
    "    p=np.vstack((x,y))\n",
    "    m=np.matrix([[p21[0,0]/d21, -p21[0,1]/d21],[p21[0,1]/d21, p21[0,0]/d21]]) #rotation matrix\n",
    "    vc=np.vstack((pc[0,0]*np.ones(99),pc[0,1]*np.ones(99))) #offset\n",
    "    return np.transpose(m*p+vc)"
   ]
  },
  {
   "cell_type": "code",
   "execution_count": null,
   "metadata": {
    "collapsed": false
   },
   "outputs": [],
   "source": [
    "# Assume we already know the time of arrival of the first beacon, which is R0/(speed_of_sound)\n",
    "coords = [(0, 0), (5, 0), (0, 5), (5, 5)]\n",
    "coord_mic = (1.2, 3.6) #microphone location\n",
    "received_signal = get_signal_virtual(x=coord_mic[0], y=coord_mic[1])\n",
    "demod = demodulate_signal(received_signal)\n",
    "distances = signal_to_distances(demod, ((coord_mic[0])**2+(coord_mic[1])**2)**0.5/340.02)\n",
    "distances = distances[:4]\n",
    "print(\"The distances are: \" + str(distances))\n",
    "TDOA = offset_to_time(signal_to_offsets(demod), sampling_rate)\n",
    "\n",
    "plt.figure(figsize=(8,4))\n",
    "plot_speakers(plt, coords, distances)\n",
    "dist=np.multiply(v,TDOA)\n",
    "colors = ['r', 'g', 'c', 'y', 'm', 'b', 'k']\n",
    "for i in range(3):\n",
    "    hyp=draw_hyperbola(coords[i+1], coords[0], dist[i+1]) #Draw hyperbola\n",
    "    plt.plot(hyp[:,0], hyp[:,1], color=colors[i+1], label='Hyperbola for beacon '+str(i+1), linestyle='--')\n",
    "plt.xlim(-9, 18)\n",
    "plt.ylim(-6, 6)\n",
    "plt.legend()\n",
    "plt.show()"
   ]
  },
  {
   "cell_type": "markdown",
   "metadata": {},
   "source": [
    "Solving for the intersection point of these hyperbolic equations in the plot above is computationally simple. However, real recorded signals will have error which will make an exact solution for all the beacons impossible. Least squares can be used to solve for the solution with the minimum amount of error, however this becomes mathematically difficult for non-linear equations such as our hyperbolas. Fortunately, we can linearize our system of equations to make least squares computationally simple and reliable.\n",
    "\n",
    "**Getting n-2 linear equations:** Our hyperbolic solution in the previous section involves a square root we wish to get rid of. Observing that our non-linear term $\\sqrt{x^2 + y^2}$ is independent of $x_m$ or $y_m$, we can sacrifice a beacon, $B_1$, to linearize our system:\n",
    "\n",
    "$$ v_s\\tau_m - v_s\\tau_1 = [\\frac{-2x_mx + {x_m}^2 -2y_my + {y_m}^2}{v_s\\tau_m} - 2\\sqrt{x^2 + y^2}] - [\\frac{-2x_1x + {x_1}^2 -2y_1y + {y_1}^2}{v_s\\tau_1} - 2\\sqrt{x^2 + y^2}]$$\n",
    "\n",
    "The subtraction removes the non-linear term. The final equation with respect to $B_m$ is ($m$ ranges from 2 to $n-1$): \n",
    "\n",
    "$$ (\\frac{2 x_m}{v_s\\tau_m}-\\frac{2 x_1}{v_s\\tau_1})x + (\\frac{2 y_m}{v_s\\tau_m}-\\frac{2 y_1}{v_s\\tau_1})y = (\\frac{{x_m}^2 + {y_m}^2}{v_s\\tau_m} - \\frac{{x_1}^2 + {y_1}^2}{v_s\\tau_1}) - (v_s\\tau_m - v_s\\tau_1)$$\n",
    "\n",
    "The result is a linear equation with our position as linear variables.\n",
    "\n",
    "Note we need at least two equations to find the position of $R$, and we sacrificed 1 speaker as a reference and another to derive a linear relationship. Thus, we must have no fewer than 4 speakers to keep the lab running using our linear least squares locationing system.\n",
    "\n",
    "Suppose we have four speakers located at (0, 0), (5, 0), (0, 5), (5, 5), respectively. We will simulate the case where the microphone is located at (1.2, 3.6). Run the following block."
   ]
  },
  {
   "cell_type": "code",
   "execution_count": null,
   "metadata": {
    "collapsed": false,
    "tags": [
     "worksheet-0"
    ]
   },
   "outputs": [],
   "source": [
    "# Assume we already know the time of arrival of the first beacon, which is R0/(speed_of_sound)\n",
    "coords = [(0, 0), (5, 0), (0, 5), (5, 5)]\n",
    "coord_mic = (1.2, 3.6) #microphone location\n",
    "received_signal = get_signal_virtual(x=coord_mic[0], y=coord_mic[1])\n",
    "demod = demodulate_signal(received_signal)\n",
    "distances = signal_to_distances(demod, ((coord_mic[0])**2+(coord_mic[1])**2)**0.5/340.02)\n",
    "distances = distances[:4]\n",
    "print(\"The distances are: \" + str(distances))\n",
    "\n",
    "# Plot the speakers\n",
    "plt.figure(figsize=(8,4))\n",
    "plot_speakers(plt, coords, distances)\n",
    "\n",
    "# Plot the linear relationship of the microphone and speakers.\n",
    "isac=1; #index of the beacon to be sacrificed\n",
    "TDOA = offset_to_time(signal_to_offsets(demod), sampling_rate)\n",
    "helper = lambda i: float(speakers[i][0]**2+speakers[i][1]**2)/(v*TDOA[i])-float(speakers[isac][0]**2+speakers[isac][1]**2)/(v*TDOA[isac])\n",
    "helperx = lambda i: float(speakers[i][0]*2)/(v*TDOA[i])-float(speakers[isac][0]*2)/(v*TDOA[isac])\n",
    "helpery = lambda i: float(speakers[i][1]*2)/(v*TDOA[i])-float(speakers[isac][1]*2)/(v*TDOA[isac])\n",
    "\n",
    "x = np.linspace(-9, 9, 1000)\n",
    "y1,y2,y3 = [],[],[]\n",
    "if isac!=1: y1 = [((helper(1)-helper(isac))-v*(TDOA[1]-TDOA[isac])-helperx(1)*xi)/helpery(1) for xi in x]\n",
    "if isac!=2: y2 = [((helper(2)-helper(isac))-v*(TDOA[2]-TDOA[isac])-helperx(2)*xi)/helpery(2) for xi in x]\n",
    "if isac!=3: y3 = [((helper(3)-helper(isac))-v*(TDOA[3]-TDOA[isac])-helperx(3)*xi)/helpery(3) for xi in x]\n",
    "\n",
    "# You can calculate and plot the equations for the other 2 speakers here.\n",
    "if isac!=1: plt.plot(x, y1, label='Equation for beacon 1', color='g')\n",
    "if isac!=2: plt.plot(x, y2, label='Equation for beacon 2', color='c')\n",
    "if isac!=3: plt.plot(x, y3, label='Equation for beacon 3', color='y')\n",
    "plt.xlim(-9, 18)\n",
    "plt.ylim(-6, 6)\n",
    "plt.legend()\n",
    "plt.show()"
   ]
  },
  {
   "cell_type": "markdown",
   "metadata": {
    "collapsed": true,
    "tags": [
     "worksheet-0"
    ]
   },
   "source": [
    "As we see in the above example, the microphone's position lies on the intersection of the curves. Finding the position of the microphone is equivalent to finding the solution for the linear system.\n",
    "\n",
    "**<span style=\"color:red\">\n",
    "Is our actual locationing system demo setup in this lab overdetermined or underdetermined? Is this good or bad?\n",
    "</span>**\n",
    "\n",
    "**<span style=\"color:red\">\n",
    "Compare those two approaches (linear vs. hyperbolic equations). Which approach would be easier to be implemented?\n",
    "</span>**\n",
    "\n",
    "Reference (and more reading!): http://en.wikipedia.org/wiki/Multilateration"
   ]
  },
  {
   "cell_type": "markdown",
   "metadata": {
    "collapsed": true,
    "tags": [
     "worksheet-0"
    ]
   },
   "source": [
    "<a id='task1'></a>\n",
    "# <span style=\"color:blue\">Task 1: Constructing the System of Equations</span>\n",
    "\n",
    "Once we find the equations for each speaker and the microphone, we are able to construct a system of linear equations.\n",
    "\n",
    "**<span style=\"color:red\"> Write the function below that sets up the least squares problem </span>**"
   ]
  },
  {
   "cell_type": "code",
   "execution_count": null,
   "metadata": {
    "collapsed": false,
    "tags": [
     "worksheet-0"
    ]
   },
   "outputs": [],
   "source": [
    "def construct_system(speakers, TDOA, isac=1, plot=0):\n",
    "    \"\"\"Construct the components of the system according to a list of TDOA's\n",
    "    Args:\n",
    "    TDOA (np.array): an array of TDOA's\n",
    "    isac : index of speaker to be sacrificed for linearization\n",
    "    \n",
    "    Returns:\n",
    "    A (np.matrix): the matrix corresponding to the least squares system\n",
    "    b (np.array): the vector corresponding to the least squares system\n",
    "    \n",
    "    Hint: see how the cell above uses the functions 'helperx', 'helpery' and 'helper'\n",
    "    \"\"\"\n",
    "    x0, y0 = speakers[isac]\n",
    "    t0 = TDOA[isac]\n",
    "    def helper(i):\n",
    "        x, y = speakers[i]\n",
    "        return (x**2 + y**2)/(v * TDOA[i]) - (x0**2 + y0**2)/(v * t0)\n",
    "    def helperx(i):\n",
    "        x, y = speakers[i]\n",
    "        return (x * 2) / (v * TDOA[i]) - (x0 * 2) / (v * t0)\n",
    "    def helpery(i):\n",
    "        x, y = speakers[i]\n",
    "        return (y * 2) / (v * TDOA[i]) - (y0 * 2) / (v * t0)\n",
    "    A, b = [], []\n",
    "    for i in range(1, len(TDOA)):\n",
    "        if (i!=isac): #if i is not the index of the beacon to be sacrificed,\n",
    "            # BEGIN SOLUTION\n",
    "            \n",
    "            # END SOLUTION\n",
    "    if plot==1: #plot the linear equations\n",
    "        x = np.linspace(-9, 9, 1000)\n",
    "        for i in range(len(b)):\n",
    "            y = [(b[i] - A[i][0]*xi) / A[i][1] for xi in x]\n",
    "            plt.plot(x, y, label=\"Equation\" + str(i + 1))   \n",
    "        plt.xlim(-9, 9)\n",
    "        plt.ylim(-6, 6)\n",
    "        plt.legend()\n",
    "        plt.show()\n",
    "        \n",
    "    #normalizations\n",
    "    AA, bb = [], []\n",
    "    for i in range(len(A)):\n",
    "        AA.append([A[i][0]/np.linalg.norm(A[i]), A[i][1]/np.linalg.norm(A[i])])\n",
    "        bb.append(b[i]/np.linalg.norm(A[i]))      \n",
    "    return AA, bb"
   ]
  },
  {
   "cell_type": "markdown",
   "metadata": {
    "collapsed": true,
    "tags": [
     "worksheet-0"
    ]
   },
   "source": [
    "Take a look at your results and make sure it works correctly (Don't worry if there are some small errors):"
   ]
  },
  {
   "cell_type": "code",
   "execution_count": null,
   "metadata": {
    "collapsed": false,
    "tags": [
     "worksheet-0"
    ]
   },
   "outputs": [],
   "source": [
    "A, b = construct_system(speakers,TDOA)\n",
    "\n",
    "for i in range(len(b)):\n",
    "    print (\"Row %d: %.f should equal %.f\"%(i, A[i][0] * 1.2 + A[i][1] * 3.6, b[i]))"
   ]
  },
  {
   "cell_type": "markdown",
   "metadata": {
    "collapsed": true,
    "tags": [
     "worksheet-0"
    ]
   },
   "source": [
    "<a id='task1'></a>\n",
    "# <span style=\"color:blue\">Task 2: Using Least Squares</span>\n",
    "\n",
    "**Definition**: If $A$ is an $m \\times n$ matrix and $b$ is in $\\mathbb{R}^m$, a **least-squares solution** of $Ax=b$ is an $\\hat{x}$ in $\\mathbb{R}^n$ such that for all $x$ in $\\mathbb{R}^n$: $||b - A\\hat{x}|| \\leq ||b - Ax||$.\n",
    "\n",
    "The solution for an overdetermined problem is given by solving the normal equations: $A^TAx=A^Tb$."
   ]
  },
  {
   "cell_type": "markdown",
   "metadata": {
    "collapsed": true,
    "tags": [
     "worksheet-0"
    ]
   },
   "source": [
    "**Why do we need least-squares here?**\n",
    "\n",
    "During the transmission of sound in air, some noise is added into the signal. Most of the time we don't receive the original signal perfectly; in other words, the linear system is no longer consistant due to the modified signal. Also in our locationing system, we have more than 2 linear equations to improve the accuracy. However with more equations, the linear system is more likely to be inconsistent. Least-squares solution ensures a best approximation we can get, even if there is technically no solution to the system."
   ]
  },
  {
   "cell_type": "markdown",
   "metadata": {},
   "source": [
    "**<span style=\"color:red\">Implement the following function given arguments matrix A and vector b. Implement your own function of solving least-squares, do not use the least squares solver built into python.</span>**"
   ]
  },
  {
   "cell_type": "code",
   "execution_count": null,
   "metadata": {
    "collapsed": false,
    "tags": [
     "worksheet-0"
    ]
   },
   "outputs": [],
   "source": [
    "def least_squares(A, b):\n",
    "    \"\"\"Solve the least squares problem\n",
    "    \n",
    "    Args:\n",
    "    A (np.array): the matrix in the least squares problem\n",
    "    b (np.array): the vector in the least squares problem\n",
    "    \n",
    "    Returns:\n",
    "    pos (np.array): the result of the least squares problem (x)    \n",
    "    \"\"\"\n",
    "    #equivalent with return np.linalg.lstsq(np.array(A), np.array(b))[0]\n",
    "\n",
    "    # BEGIN SOLUTION\n",
    "\n",
    "    # END SOLUTION"
   ]
  },
  {
   "cell_type": "markdown",
   "metadata": {},
   "source": [
    "**<span style=\"color:red\">Test your least squares function for a simple case in the cell below.</span>**"
   ]
  },
  {
   "cell_type": "code",
   "execution_count": null,
   "metadata": {
    "collapsed": false
   },
   "outputs": [],
   "source": [
    "A = np.matrix(((1,1),(1,2),(1,3),(1,4)))\n",
    "b = np.array((6, 5, 7, 10))\n",
    "yourres = least_squares(A,b)\n",
    "print('Your results: ',yourres)\n",
    "correctres = np.linalg.lstsq(np.array(A), np.array(b))[0]\n",
    "print('Correct results: ',correctres)"
   ]
  },
  {
   "cell_type": "markdown",
   "metadata": {
    "collapsed": true,
    "tags": [
     "worksheet-0"
    ]
   },
   "source": [
    "**<span style=\"color:red\">Run the next following blocks to make sure your least squares estimate works for our locationing system (Don't worry about small errors).</span>**"
   ]
  },
  {
   "cell_type": "code",
   "execution_count": null,
   "metadata": {
    "collapsed": false,
    "tags": [
     "worksheet-0"
    ]
   },
   "outputs": [],
   "source": [
    "def get_signal_actual(mode, x, y, intensity):\n",
    "    \"\"\"Get the signal from the microphone\"\"\"\n",
    "    return mic.new_data()\n",
    "\n",
    "# Define a dictionary to allow us to sqitch between the \n",
    "get_signal = {'actual': get_signal_actual, 'virtual': get_signal_virtual}\n",
    "\n",
    "# Define a helper function to use least squares to calculate location from just the TDOAs\n",
    "def calculate_location(speakers, TDOA, isac=1):\n",
    "    return least_squares(*construct_system(speakers, TDOA, isac))\n",
    "\n",
    "# Define a testing function\n",
    "def test_loc(x_pos, y_pos, inten, src, debug=False):\n",
    "    raw_signal = get_signal[src](mode=\"Location\", x=x_pos, y=y_pos, intensity=inten)\n",
    "    \n",
    "    # Demodulate raw signal\n",
    "    demod = demodulate_signal(raw_signal)\n",
    "    \n",
    "    # Separate the beacon signals\n",
    "    separated = separate_signal(demod)\n",
    "\n",
    "    # Perform our averaging function\n",
    "    avg = [average_signal(s) for s in separated]\n",
    "\n",
    "    # Calculate offsets and TDOAs\n",
    "    offsets = identify_offsets(avg)\n",
    "    TDOA = offset_to_time(signal_to_offsets(demod), sampling_rate)\n",
    "\n",
    "    # Construct system of equations\n",
    "    A, b = construct_system(speakers, TDOA)\n",
    "\n",
    "    # Calculate least squares solution\n",
    "    pos = calculate_location(speakers, TDOA)\n",
    "\n",
    "    if debug:\n",
    "        # Plot the averaged output for each beacon\n",
    "        plt.figure(figsize=(12,6))\n",
    "        for i in range(len(avg)):\n",
    "            plt.subplot(3,2,i+1)\n",
    "            plt.plot(avg[i])\n",
    "            plt.title(\"Beacon %d\"%i)\n",
    "        plt.tight_layout()\n",
    "\n",
    "        # Plot the averaged output for each beacon centered about beacon0\n",
    "        plt.figure(figsize=(16,4))\n",
    "        peak = identify_peak(avg[0])\n",
    "        for i in range(len(avg)):\n",
    "            plt.plot(np.roll(avg[i], len(avg[0]) // 2 - peak), label=\"{0}\".format(i))\n",
    "        plt.title(\"Beacons Detected\")\n",
    "        plt.legend()\n",
    "        plt.show()\n",
    "\n",
    "        print( \"Offsets (samples): %s\"%str(offsets))\n",
    "        print( \"Times (s): [%s]\\n\"%\", \".join([\"%0.6f\" % t for t in TDOA]))\n",
    "        print( \"Constructing system...\")\n",
    "        print( \"Verifying system using known position...\")\n",
    "        for i in range(len(b)):\n",
    "            print( \"Row %d: %.f should equal %.f\"%(i, A[i][0] * x_pos + A[i][1] * y_pos, b[i]))\n",
    "\n",
    "        print( \"\\nCalculating least squares estimate...\")\n",
    "    print(\"Expected: (%.3f, %.3f); got (%.3f, %.3f)\\n\"%(x_pos, y_pos, pos[0], pos[1]))"
   ]
  },
  {
   "cell_type": "code",
   "execution_count": null,
   "metadata": {
    "collapsed": false,
    "tags": [
     "worksheet-0"
    ]
   },
   "outputs": [],
   "source": [
    "# Testing signals without noise.\n",
    "test_loc(1.2, 3.6, 0, 'virtual', False)"
   ]
  },
  {
   "cell_type": "markdown",
   "metadata": {
    "collapsed": true,
    "tags": [
     "worksheet-0"
    ]
   },
   "source": [
    "**<span style=\"color:red\">Test your code with noisy inputs. Are all of the estimates in the cases with noise reasonable? Why or why not?</span>**\n",
    "(Don't worry if there are some small errors)"
   ]
  },
  {
   "cell_type": "code",
   "execution_count": null,
   "metadata": {
    "collapsed": false,
    "tags": [
     "worksheet-0"
    ]
   },
   "outputs": [],
   "source": [
    "# Testing signals with noise\n",
    "test_loc(1.2, 3.6, 30, 'virtual')\n",
    "test_loc(1.2, 3.6, 40, 'virtual')\n",
    "test_loc(1.2, 3.6, 50, 'virtual')"
   ]
  },
  {
   "cell_type": "markdown",
   "metadata": {
    "collapsed": true,
    "tags": [
     "worksheet-0"
    ]
   },
   "source": [
    "<a id='task1'></a>\n",
    "# <span style=\"color:blue\">Task 3: Testing with the Microphone</span>"
   ]
  },
  {
   "cell_type": "markdown",
   "metadata": {
    "collapsed": true,
    "tags": [
     "worksheet-0"
    ]
   },
   "source": [
    "**<span style=\"color:red\">Important</span>** Go through the task3 to verify your work with pre-recorded data. After you finish all steps and find all steps are working, send your notebook file to your lab GSI and move to the testing station and load your code on the testing computer."
   ]
  },
  {
   "cell_type": "code",
   "execution_count": null,
   "metadata": {
    "collapsed": false,
    "tags": [
     "worksheet-0"
    ]
   },
   "outputs": [],
   "source": [
    "%run support_code/rec.py\n",
    "\n",
    "def get_signal():\n",
    "    \"\"\"Get the signal from the microphone\"\"\"\n",
    "    return mic.new_data()"
   ]
  },
  {
   "cell_type": "markdown",
   "metadata": {
    "collapsed": true,
    "tags": [
     "worksheet-0"
    ]
   },
   "source": [
    "**<span style=\"color:red\"> (GSIs) Uncomment raw_signal = get_signal() and comment out all np.load executions. Begin with all of the speakers equidistant from the microphone (on the tape marks). Record the signal and make sure it looks reasonable, if not keep recording until it does.</span>**\n",
    "\n",
    "**<span style=\"color:red\"> (Students) Simply run the code and it will automatically load the pre-recorded data. `raw_signal_center` is a recorded signal with the microphone located in the center whereas `raw_signal_beacon45` has the microphone located close to speakers 4 and 5</span>**"
   ]
  },
  {
   "cell_type": "code",
   "execution_count": null,
   "metadata": {
    "collapsed": false,
    "scrolled": true,
    "tags": [
     "worksheet-0"
    ]
   },
   "outputs": [],
   "source": [
    "#Run couple of times to clean up the buffer\n",
    "raw_signal = np.load('raw_signal_center.npy') #uncomment this when you load raw data #1\n",
    "#raw_signal = np.load('raw_signal_beacon45.npy') #uncomment this when you load raw data #2\n",
    "#raw_signal = get_signal() #uncomment when you (GSI) actually record the data\n",
    "plt.figure(figsize=(16,4))\n",
    "plt.plot(raw_signal)"
   ]
  },
  {
   "cell_type": "markdown",
   "metadata": {
    "collapsed": true,
    "tags": [
     "worksheet-0"
    ]
   },
   "source": [
    "**<span style=\"color:red\">Make sure you see a well defined peak in the correlation of each beacon.</span>**"
   ]
  },
  {
   "cell_type": "code",
   "execution_count": null,
   "metadata": {
    "collapsed": false,
    "scrolled": true,
    "tags": [
     "worksheet-0"
    ]
   },
   "outputs": [],
   "source": [
    "# Demodulate raw signal\n",
    "demod = demodulate_signal(raw_signal)\n",
    "    \n",
    "# Separate the beacon signals\n",
    "separated = separate_signal(demod)\n",
    "\n",
    "# Perform our averaging function\n",
    "avg = [average_signal(s) for s in separated]\n",
    "\n",
    "# Plot the averaged output for each beacon\n",
    "fig = plt.figure(figsize=(12,6))\n",
    "for i in range(len(avg)):\n",
    "    plt.subplot(3,2,i+1)\n",
    "    plt.plot(avg[i])\n",
    "    plt.title(\"Beacon %d\"%i)\n",
    "plt.tight_layout()"
   ]
  },
  {
   "cell_type": "markdown",
   "metadata": {},
   "source": [
    "Run the code below to plot hyperbolas associated with the peaks. Could you guess the location of the microphone from the hyperbolic plots?"
   ]
  },
  {
   "cell_type": "code",
   "execution_count": null,
   "metadata": {
    "collapsed": false
   },
   "outputs": [],
   "source": [
    "# Locations of speakers\n",
    "speakers = [(0, 0), (0.53, 0.03), (0.66, 0.31), (0.50, 0.6), (-0.04, 0.58), (-0.15, 0.30)]\n",
    "distances = signal_to_distances(demod, 0)\n",
    "\n",
    "colors = ['r', 'g', 'c', 'y', 'm', 'b', 'k']\n",
    "for i in range(5):\n",
    "    hyp=draw_hyperbola(speakers[i+1], speakers[0], distances[i+1]) #Draw hyperbola\n",
    "    plt.plot(hyp[:,0], hyp[:,1], color=colors[i], label='Hyperbola for beacon '+str(i+1), linestyle='--')\n",
    "plot_speakers(plt, speakers, distances, circle=False)\n",
    "\n",
    "plt.xlim(-0.2, 0.8)\n",
    "plt.ylim(-0.05, 0.65)\n",
    "plt.legend(bbox_to_anchor=(1.6, 1))\n",
    "plt.show()"
   ]
  },
  {
   "cell_type": "markdown",
   "metadata": {
    "collapsed": true,
    "tags": [
     "worksheet-0"
    ]
   },
   "source": [
    "**<span style=\"color:red\">Run the code below to determine the relative distance differences. Do these values make sense considering the placement of the speakers?</span>**"
   ]
  },
  {
   "cell_type": "code",
   "execution_count": null,
   "metadata": {
    "collapsed": false,
    "scrolled": true
   },
   "outputs": [],
   "source": [
    "# Locations of speakers\n",
    "speakers = [(0, 0), (0.53, 0.03), (0.66, 0.31), (0.50, 0.6), (-0.04, 0.58), (-0.15, 0.30)]\n",
    "\n",
    "isac=1 #index of speaker to be sacrificed\n",
    "\n",
    "# Calculate quantities and compute least squares solution\n",
    "offsets = signal_to_offsets(demod)\n",
    "\n",
    "distances = signal_to_distances(demod, 0)\n",
    "TDOA = offset_to_time(offsets, sampling_rate)\n",
    "x, y = calculate_location(speakers, TDOA, isac)\n",
    "\n",
    "print( \"Distance differences (m)): [%s]\\n\"%\", \".join([\"%0.4f\" % d for d in distances]))\n",
    "print( \"Least Squares Location: %0.4f, %0.4f\" % (x, y))\n",
    "\n",
    "# Find distance from speaker 0 for plotting\n",
    "dist_from_origin = np.linalg.norm([x, y])\n",
    "dist_from_speakers = [d + dist_from_origin for d in distances]\n",
    "print( \"Distances from Speakers : [%s]\\n\"%\", \".join([\"%0.4f\" % d for d in dist_from_speakers]))\n",
    "\n",
    "# Plot speakers\n",
    "plt.scatter(x, y, marker='o', color='r', label='Microphone')\n",
    "plot_speakers(plt, speakers, [d for d in dist_from_speakers])\n",
    "\n",
    "# For debugging; plot linear equations for LS\n",
    "A, b = construct_system(speakers, TDOA, isac) #for debugging\n",
    "colors = ['r', 'g', 'c', 'y', 'm', 'b', 'k']\n",
    "x2 = np.linspace(-0.9, 0.9, 1000)\n",
    "j=0;\n",
    "for i in range(len(b)):\n",
    "    if i==isac-1: j=j+2\n",
    "    else: j=j+1\n",
    "    y2 = [(b[i] - A[i][0]*xi) / A[i][1] for xi in x2]\n",
    "    plt.plot(x2, y2, color=colors[j], label=\"Equation\" + str(j), linestyle='--')\n",
    "    plt.xlim(-0.2, 0.8)\n",
    "    plt.ylim(-0.05, 0.65)\n",
    "    plt.legend(bbox_to_anchor=(1.4, 1))\n",
    "    "
   ]
  },
  {
   "cell_type": "markdown",
   "metadata": {},
   "source": [
    "Do you think the least square gives the best result? Run this code below and try moving the sliding knob to figure out the possible $R_0$ and location. Would it give a better result if we find a way to deal with distances directly instead of the linear equations?\n",
    "\n",
    "**<span style=\"color:red\"> The code below requires ipywidgets and not working on student's stations. Skip this and move to the next step or consult your GSI to run the code on your laptop. <span>** "
   ]
  },
  {
   "cell_type": "code",
   "execution_count": null,
   "metadata": {
    "collapsed": false
   },
   "outputs": [],
   "source": [
    "from ipywidgets import interact, FloatSlider\n",
    "\n",
    "# Locations of speakers\n",
    "speakers = [(0, 0), (0.53, 0.03), (0.66, 0.31), (0.50, 0.6), (-0.04, 0.58), (-0.15, 0.30)]\n",
    "\n",
    "# step size of the slider\n",
    "STEP_VAL = 0.01\n",
    "# allow smallest slider value to be the minimum value that would make all distances non-negative\n",
    "min_d = np.ceil(-min(distances)/STEP_VAL)*STEP_VAL\n",
    "\n",
    "# this is the slider\n",
    "\n",
    "# d0_slider = FloatSlider(min=min_d, max=1.0, step=STEP_VAL, value=0.2)\n",
    "d0_slider = FloatSlider(min=min_d, max=1.0, step=STEP_VAL, value=0.2)\n",
    "\n",
    "@interact(d0=d0_slider)\n",
    "def plot_circles_with_offset(d0):\n",
    "    # color coding different beacons\n",
    "    colors = ['r', 'g', 'c', 'y', 'm', 'b', 'k']\n",
    "    xs, ys = zip(*speakers)\n",
    "    fig,ax = plt.subplots(figsize=(6, 5))\n",
    "    for i in range(len(xs)):\n",
    "        plt.scatter(xs[i], ys[i], marker='x', color=colors[i])\n",
    "    for i, point in enumerate(speakers):\n",
    "        ax.add_artist(plt.Circle(point, distances[i]+d0, facecolor='none', ec = colors[i]))\n",
    "    plt.axis('equal')"
   ]
  },
  {
   "cell_type": "markdown",
   "metadata": {},
   "source": [
    "**Gradient decent algorithm**\n",
    "\n",
    "  Instead of dealing with derived linear equation, we can use an iterative approach to find $R_0$; from the given initial point, find a direction that gives the most error reduction (the difference between circle radius and estimated distance), and move the guessing point a little bit to that direction. By repeating these steps, we can converge to the point that gives the minimum error (thereby intersecting circles). This is beyond the scope of the course, but simply running the code will be a good exercise,"
   ]
  },
  {
   "cell_type": "code",
   "execution_count": null,
   "metadata": {
    "collapsed": false
   },
   "outputs": [],
   "source": [
    "A = np.array([[x,y] for x,y in speakers])\n",
    "\n",
    "A = A.T\n",
    "\n",
    "mx0 = np.mean(A,1)\n",
    "# mx0 = np.array([x,y])\n",
    "md0 = norm(mx0)\n",
    "\n",
    "ITER = 1000\n",
    "mu = 0.005\n",
    "\n",
    "for k in range(ITER):\n",
    "    udx = np.array([0,0])\n",
    "    udd = 0\n",
    "    for j in range(len(speakers)):\n",
    "        udx = udx + 2*(norm(mx0 - A[:,j]) - md0 - distances[j])*(mx0 - A[:,j])/norm(mx0 - A[:,j])\n",
    "        udd = udd - 2*(norm(mx0 - A[:,j]) - md0 - distances[j])\n",
    "    mx0 = mx0 - udx*mu\n",
    "    md0 = md0 - udd*mu\n",
    "\n",
    "x_gd = mx0[0]\n",
    "y_gd = mx0[1]\n",
    "\n",
    "print('estimated distance offset: %f'%md0)\n",
    "print(\"Estimated Location: %0.4f, %0.4f\" % (x, y))\n",
    "# Find distance from speaker 0 for plotting\n",
    "dist_from_origin = np.linalg.norm([x_gd, y_gd])\n",
    "dist_from_speakers = [d + md0 for d in distances]\n",
    "# print( \"Distances from Speakers : [%s]\\n\"distances%\", \".join([\"%0.4f\" % d for d in dist_from_speakers]))\n",
    "\n",
    "# Plot speakers\n",
    "# plt.subplot(111,projection='polar')\n",
    "plt.scatter(x_gd, y_gd, marker='o', color='r', label='Microphone')\n",
    "plot_speakers(plt, speakers, [d for d in dist_from_speakers])"
   ]
  },
  {
   "cell_type": "markdown",
   "metadata": {
    "collapsed": true
   },
   "source": [
    "**<span style=\"color:red\">(GSIs) Move the microphone from the center position and repeat the same steps above. Does this match what you expect?<span>**\n",
    "\n",
    "**<span style=\"color:red\">(Students) Go back to the beginning of Task 3 and repeat the whole steps with raw_signal_beacon45.npy file. <span>**"
   ]
  },
  {
   "cell_type": "markdown",
   "metadata": {},
   "source": [
    "After finishing Task3 with pre-recorded files, send your notebook file to your lab GSI and move to the testing station and load your code on the testing computer."
   ]
  },
  {
   "cell_type": "code",
   "execution_count": null,
   "metadata": {
    "collapsed": true
   },
   "outputs": [],
   "source": []
  }
 ],
 "metadata": {
  "kernelspec": {
   "display_name": "Python 3",
   "language": "python",
   "name": "python3"
  },
  "language_info": {
   "codemirror_mode": {
    "name": "ipython",
    "version": 3
   },
   "file_extension": ".py",
   "mimetype": "text/x-python",
   "name": "python",
   "nbconvert_exporter": "python",
   "pygments_lexer": "ipython3",
   "version": "3.4.3"
  }
 },
 "nbformat": 4,
 "nbformat_minor": 0
}
