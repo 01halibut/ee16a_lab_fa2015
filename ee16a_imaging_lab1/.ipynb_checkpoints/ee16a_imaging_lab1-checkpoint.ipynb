{
 "cells": [
  {
   "cell_type": "markdown",
   "metadata": {},
   "source": [
    "# Imaging Lab 1: Building a Light Sensor\n",
    "\n",
    "### EECS 16A: Designing Information Devices and Systems I, Fall 2015"
   ]
  },
  {
   "cell_type": "code",
   "execution_count": null,
   "metadata": {
    "collapsed": true
   },
   "outputs": [],
   "source": []
  },
  {
   "cell_type": "markdown",
   "metadata": {},
   "source": [
    "**Name 1**:\n",
    "\n",
    "**Login**: ee16a-adb\n",
    "\n",
    "\n",
    "**Name 2**:\n",
    "\n",
    "**Login**: ee16a-"
   ]
  },
  {
   "cell_type": "markdown",
   "metadata": {},
   "source": [
    "\n",
    "## Table of Contents\n",
    "\n",
    "* [Instructions](#instructions)\n",
    "* [Lab Policies](#policies)\n",
    "* [Introduction](#intro)\n",
    "  * [System Overview](#overview)\n",
    "  * [Review: Circuit Symbols and Concepts](#review)\n",
    "* [Task 1: Measuring a Voltage Across The Solar Cell](#task1)\n",
    "* [Task 2: Building the Sensor](#task2)\n",
    "* [Task 3: Introduction to the MSP430](#task3)\n",
    "* [Task 4: Changing the Filter](#extra1)\n",
    "* [Additional Resources](#extra)"
   ]
  },
  {
   "cell_type": "markdown",
   "metadata": {},
   "source": [
    "<a id='instructions'></a>\n",
    "##Instructions\n",
    "* Complete this lab by filling in all of the required sections, marked with `\"YOUR CODE HERE\"` or `\"YOUR COMMENTS HERE\"`.\n",
    "\n",
    "\n",
    "* When you finish notify your GSI to get get checked off for this lab. Be ready to answer a few questions to show your understanding of each section.\n",
    "\n",
    "\n",
    "* Labs will be graded based on completion for teams of 2 students.\n",
    "\n",
    "\n",
    "\n",
    "\n",
    "\n"
   ]
  },
  {
   "cell_type": "markdown",
   "metadata": {},
   "source": [
    "<a id='policies'></a>\n",
    "## Lab Policies\n",
    "* YOU MUST ATTEND THE LAB SECTION YOU ARE ENROLLED IN. If you anticipate missing a section please notify your GSI in advance.\n",
    "\n",
    "* You are required to return all parts checked out at the beginning of the lab section unless told otherwise.\n",
    "\n",
    "* You are free to stay for the full alloted time and hack around with the lab equipment, but please keep the GSI's time in mind and do not work on unrelated assignments.\n",
    "\n",
    "* ** Food and drinks are not allowed in the lab.**\n",
    "\n",
    "* **Clean up, turn off all equipment, and log off of computers before leaving.**"
   ]
  },
  {
   "cell_type": "markdown",
   "metadata": {},
   "source": [
    "<a id='intro'></a>\n",
    "## Introduction\n",
    "Welcome to the first of 3 labs in imaging module, in which you will actually build the imaging system introduced in [Lecture 2](http://inst.eecs.berkeley.edu/~ee16a/fa15/lecture/imaging_intro.pptx). The physical components of this system include a projector, a solar cell, sensing circuit, and a [TI MSP430](http://www.ti.com/ww/en/launchpad/launchpad.html?DCMP=rtos&HQS=ep-sdo-rtos-pr-lp-launchpad-en) microcontroller. The full imaging system is shown below: \n",
    "<br><br>\n",
    "<center>\n",
    "<img src=\"http://inst.eecs.berkeley.edu/~ee16a/images/imaging_img/proj_prof.png\" style=\"height:256px\" />\n",
    "</center>\n",
    "\n",
    "<a id='overview'></a>\n",
    "### System Overview\n",
    "The image below shows a brief overview of how our camera converts the photons of light bouncing off of an object and converts them into the numbers that represent images on a computer.\n",
    "<br><br>\n",
    "<center>\n",
    "<img src=\"http://inst.eecs.berkeley.edu/~ee16a/images/imaging_img/block_diagram_MSP.png\" style=\"height:256px\" />\n",
    "</center>\n",
    "<br><br>\n",
    "Digital images are composed of a grid of [pixels](http://en.wikipedia.org/wiki/Pixel), each of which represents a single color. In order to create this digital representation, optical imaging systems measure the energy, in this case light, reflected off of objects to determine the values of these pixels. Because different colors reflect different amounts of light, measurements of reflected light intensity can be used to differentiate between colors.\n",
    "<br/><br/>\n",
    "\n",
    "<center>\n",
    "<img src=\"http://www-inst.eecs.berkeley.edu/~ee16a/sp15/Labs/imaging/nb_img/concept_diagram.png\" style=\"height:256px\" />\n",
    "</center>\n",
    "\n",
    "Commercial cameras such as those found in smartphones use chips called CMOS image sensors to measure millions of pixel values at a time (think of this as millions of devices akin to the solar cell that all fit on an approximately 30mm$^2$ chip). In contrast, our system can only measure one light intensity value at a time, so we will instead use a controlled energy source, the projector, to illuminate specific regions of the image at a time and record the energy that reflects off the subject for one region at a time.\n",
    "<br/><br/>\n",
    "\n",
    "The solar cell converts light to induce a flow of electrons, and the circuit then outputs a voltage corresponding to light intensity. The specific configuration of the circuit sets the solar cell up so it is most sensitive to changes in light. \n",
    "<br/><br/>\n",
    "\n",
    "This changing voltage is now a set of real numbers and much closer to something we can use to represent our image on a computer. Unfortunately, our computers don't have enough memory to represent an infinite number of values so we use a microcontroller (MSP430) to take samples of this signal and convert it to a set of numbers we can then use in IPython.\n",
    "<br/>\n",
    "<a id='review'></a>\n",
    "#### Review: Circuit Symbols and Concepts\n",
    "The table below shows the circuit symbols relevant to this lab and a picture of the real component they represent.\n",
    "<br>\n",
    "<center>\n",
    "<img src=\"http://www-inst.eecs.berkeley.edu/~ee16a/sp15/Labs/imaging/nb_img/circuit_symbols.png\" align=\"center\" style=\"height:256px\"/>\n",
    "</center>\n",
    "<br/>\n",
    "Remember that a voltage is defined as a difference in electric potential between two points. For example, the voltage source we will be using in this lab has a potential difference of +3.3V between the positive and negative terminals of the source. Because a voltage requires two points to define, it is often convenient to define a common point in a circuit as a reference. This reference voltage, commonly referred to as \"ground\" is defined by convention to be 0V, and therefore allows us to conveniently describe voltages at any point in the circuit with respect to 0.  \n",
    "<br/>"
   ]
  },
  {
   "cell_type": "markdown",
   "metadata": {},
   "source": [
    "<a id='task1'></a>\n",
    "##<span style=\"color:blue\">Task 1: Measuring Voltage Across the Solar Cell</span>\n",
    "#### Materials & Equipment\n",
    "* Solar cell\n",
    "* Oscilloscope\n",
    "* Oscilloscope probe\n",
    "\n",
    "Reference the schematic below and use the oscilloscope to measure the output of the solar cell in different lighting conditions (the power supply is not needed). Compare the waveform on the oscilloscope when you cover the cell completely with the waveform measured under ambient light. Remember the handy autoscale button. REMINDER: RED LEAD IS THE POSITIVE LEAD.\n",
    "<center>\n",
    "<img src=\"http://inst.eecs.berkeley.edu/~ee16a/images/imaging_img/sol_cell_hookup.png\" align=\"center\" style=\"height:256px\" />\n",
    "</center>"
   ]
  },
  {
   "cell_type": "markdown",
   "metadata": {},
   "source": [
    "**<span style=\"color:red\">How does the waveform on the oscilloscope vary with light intensity?</span>**\n",
    "\n",
    "waveform doesn't vary, but the voltage goes up and down\n",
    "\n",
    "\n",
    "**<span style=\"color:red\">What is the average voltage of the cell in ambient light? </span>**\n",
    "\n",
    "3.25 V\n",
    "\n",
    "\n",
    "**<span style=\"color:red\">Use the oscilloscope to zoom in to 50-100 mV/division. What do you notice about the waveform? How does it differ from what you would expect an ideal device to look like? </span>**\n",
    "\n",
    "theres a spike every 5 microseconds as well as general fuzz. An ideal device would be a straight line with no noise."
   ]
  },
  {
   "cell_type": "markdown",
   "metadata": {},
   "source": [
    "<a id='task2'></a>\n",
    "##<span style=\"color:blue\">Task 2: Building the Sensor</span>\n",
    "\n",
    "#### Materials & Equipment\n",
    "* Breadbaord\n",
    "* Wire\n",
    "* 0.1 $\\mu$F capacitor\n",
    "* 100 k$\\Omega$ resistor\n",
    "* Oscilloscope + probe\n",
    "\n",
    "Use the breadboard to construct the circuit shown below and use the oscilloscope to measure the output between the points \"+\" and \"-\", instead of accross the solar cell.\n",
    "\n",
    "<center>\n",
    "<img src=\"http://inst.eecs.berkeley.edu/~ee16a/images/imaging_img/SolarCell%20Circuit.png\" align=\"center\" style=\"height:256px\" />\n",
    "</center>"
   ]
  },
  {
   "cell_type": "markdown",
   "metadata": {},
   "source": [
    "**<span style=\"color:red\">How does the waveform differ from the one you saw in [Task 1](#task1)?</span>**\n",
    "\n",
    "Less noise, spikes gone.\n",
    "\n",
    "\n",
    "**<span style=\"color:red\">How is this difference useful in the context of building an imaging system? </span>**\n",
    "\n",
    "More consistent measurements."
   ]
  },
  {
   "cell_type": "markdown",
   "metadata": {},
   "source": [
    "<a id='task3'></a>\n",
    "## <span style=\"color:blue\">Task 3: Introduction to the TI MSP430 Launchpad</span>\n",
    "\n",
    "The MSP430 is a popular [microcontroller](http://en.wikipedia.org/wiki/Microcontroller), a small computer on a single chip. Microcontrollers are found at the heart of all embedded devices and have enough processing power to perform simple tasks using very little power. Because of its limited processing capabilites, the MSP430 doesn't run an operating system like desktop computers or servers; instead the device just executes a single function continuously in a loop as soon as it is powered on. For our application this simple program reads a single voltage value and sends it to a computer via the USB connection. We will now walk through the process of using a MSP430 and uploading code to it.\n",
    "\n",
    "Note: The MSP430 is produced by Texas Instruments and comes in many flavors. The model we will be using throughout the semester is the MSP430F5529. This is the model number you will want to reference whenever prompted.\n",
    "\n",
    "#### Materials\n",
    "* MSP430F5529\n",
    "* USB cable\n",
    "* Station computer\n",
    "\n",
    "\n",
    "1. Use the USB cable (included in the MSP430 box) to connect the MSP430 to your computer. Verify that the green LED near the USB port on the MSP430 lights up once it's connected to the computer.\n",
    "<br/><br/>\n",
    "<center>\n",
    "<img src=\"http://inst.eecs.berkeley.edu/~ee16a/images/imaging_img/MSP430.png\" align=\"center\" style=\"height:256px\" />\n",
    "</center>\n",
    "<br/>\n",
    "2. Open Energia:\n",
    "Energia is a software porgram used to compile and upload code to the microcontroller.\n",
    "<br/><br/>\n",
    "<center>\n",
    "<img src=\"http://inst.eecs.berkeley.edu/~ee16a/images/imaging_img/Energia_Screenshot.png\" align=\"center\" style=\"height:400px\" />\n",
    "</center>\n",
    "<br/>\n",
    "\n",
    "3. Select \"Tools>Board > MSP430F5529 (25 MHz)\":\n",
    "This software supports a wide variety of MSP430 boards, some of which have different chips. In order to make sure that code is uploaded to the proper device, we need to make sure we have specified we are using the F5529 model.\n",
    "<br/><br/>\n",
    "<center>\n",
    "<img src=\"http://inst.eecs.berkeley.edu/~ee16a/images/imaging_img/Energia_board.png\" align=\"center\" style=\"height:400px\" />\n",
    "</center>\n",
    "<br/>\n",
    "\n",
    "4. Selecting the right serial port:\n",
    "The MSP430 uses a serial interface to communicate with computers. In order to upload code to the device we have to select the serial port that the MSP430 is connected to. On the lab computers there should be three options, \"COM1\" and then two others. Use the Windows device manager to figure out which COM port is connected to UART.\n",
    "\n",
    "  If at any time you are unable to upload code or communicate with the MSP430, this menu can be used to check if the port is still recognized. If no options appear in this menu then try unplugging the MSP430 and plugging it back in.\n",
    "<br/><br/>\n",
    "<center>\n",
    "<img src=\"http://inst.eecs.berkeley.edu/~ee16a/images/imaging_img/Energia_serial_port.png\" align=\"center\" style=\"height:400px\" />\n",
    "</center>\n",
    "<br/>\n",
    "\n",
    "5. Open the file \"LightSensor.ino\" (included in the lab zip file):\n",
    "Note that the MSP430 requires that the \".ino\" source file be placed in a folder with the same name. This file has code to periodically read the voltage of pin \"P6.0\" and send this data over serial to a computer.\n",
    "<br/><br/>\n",
    "\n",
    "6. Click the \"Upload\" button:\n",
    "This should compile and upload code to the MSP430. You will most likey get an error message prompting you to \"Update the Programmer.\" You will see this error whenever connecting the MSP430 to a computer different than the one it was previously connected to (or connecting it for the first time). To resolve this issue simply go to \"Tools>Update Programmer\". Then re-upload the desired code file. Once the \"Programming successful\" message is displayed, the MSP430 will repeatedly execute the code whenever it is powered on. Even though the \"Programming successful\" message is displayed, it is good practice to reset the MSP430 <em>EVERYTIME</em> you upload to it. To do this simply press the the pushbutton named \"RST\".\n",
    "<br/><br/>\n",
    "<center>\n",
    "<img src=\"http://inst.eecs.berkeley.edu/~ee16a/images/imaging_img/Energia_upload.png\" align=\"center\" style=\"height:400px\" />\n",
    "</center>\n",
    "<br/><br/>\n",
    "7. Connect the MSP430 to the sensor circuit:\n",
    "  Our goal is to use the MSP430 board to replace the oscilloscope and external power supply; the MSP430 is capable of supplying the 3.3V necessary to power the circuit, and can also read and send voltage values to our computer.\n",
    "  * Disconnect and turn off the power supply.\n",
    "  * Disconnect the oscilloscope probe.\n",
    "  * Connect the **3V3** port on the MSP430 (highlighted in green) to the **positive** terminal of the voltage source in the circuit diagram.\n",
    "  * Connect the **GND** port (either one) on the MSP430 (highlighted in blue) corresponds to the **negative** terminal of the voltage source\n",
    "  * Connect the output of the circuit (which was previously connected to the positive oscilloscope probe) with a wire to the **P6.0** port on the MSP430 (highlighted in yellow).\n",
    "<br/><br/>\n",
    "<center>\n",
    "<img src=\"http://inst.eecs.berkeley.edu/~ee16a/images/imaging_img/colored_pins.png\" align=\"center\" style=\"height:400px\" />\n",
    "</center>\n",
    "<br/><br/>\n",
    "8. Run the code block below and try covering part of the solar cell"
   ]
  },
  {
   "cell_type": "code",
   "execution_count": null,
   "metadata": {
    "collapsed": false
   },
   "outputs": [],
   "source": [
    "import subprocess\n",
    "from light_sensor import serial_ports\n",
    "\n",
    "# function for getting the list of ports other than COM1\n",
    "def get_portlist():\n",
    "    ports = serial_ports()\n",
    "\n",
    "    result = []\n",
    "    if len(ports) > 1:\n",
    "        for p in ports:\n",
    "            if p != \"COM1\":\n",
    "                result.append(p)    \n",
    "    else:    \n",
    "        print(\"No serial ports other than COM1 detected. Make sure MSP430 is connected and try again.\")\n",
    "    return result\n",
    "\n",
    "portlist = get_portlist()\n",
    "\n",
    "# list the ports seen on the machine\n",
    "print(\"You have the following ports:\")\n",
    "counter = 1\n",
    "for p in portlist:\n",
    "    print(\"%i - %s\"%(counter,p))\n",
    "    counter = counter + 1\n",
    "\n",
    "# let the user choose the correct port\n",
    "index = int(input(\"Select the index of the port corresponding to MSP Application UART1 in device manager: \\n\"))\n",
    "while index > len(portlist):\n",
    "    print(\"You have only %i COM ports to choose from, please enter an index in [1, %i]\"%(len(portlist),len(portlist)))\n",
    "    index = int(input(\"Select the index of the port corresponding to MSP Application UART1 in device manager: \\n\"))\n",
    "\n",
    "# connect to the port\n",
    "subprocess.call([\"python\", \"light_sensor.py\", \"-D\", portlist[index-1]])\n",
    "    "
   ]
  },
  {
   "cell_type": "markdown",
   "metadata": {},
   "source": [
    "<a id='extra1'></a>\n",
    "##<span style=\"color:blue\">Task 4: Changing the Filter</span>\n",
    "To become more familiar with the effects of the capacitor on the circuit, swap out the current capacitor with a larger one (typically 10 $\\mu$F or more). You can find larger capacitors at the component drawer on the GSI desk; please return this capacitor when you are done."
   ]
  },
  {
   "cell_type": "markdown",
   "metadata": {},
   "source": [
    "**<span style=\"color:red\">How does the circut response change when the light is blocked?</span>**\n",
    "\n",
    "Circuit respohnse time becomes slower with larger capacitor\n"
   ]
  },
  {
   "cell_type": "markdown",
   "metadata": {},
   "source": [
    "<a id='extra'></a>\n",
    "## Additional Resources\n",
    "Congratulations, you can now record sensor data on a computer!\n",
    "There are all kinds of exciting things you can do with this exact setup; once your sensor data is accessible in Python, you can use your sensor input as a cue to send a text message or tweet, start or stop programs, the possibilites are endless!\n",
    "\n",
    "If you're interested applying what you've learned to your own personal projects there are a variety of spaces on campus with additional resources to support these kinds of activities: \n",
    "* [Supernode (246 Cory Hall)](http://supernode.berkeley.edu/index.php?title=Main_Page)\n",
    "* [CITRIS Invention Lab (141 Sutardja Dai Hall)](http://invent.citris-uc.org)\n",
    "* [Jacobs Hall (under construction, opening Fall 2015)](http://engineeringdesign.berkeley.edu/jacobs-hall/)"
   ]
  },
  {
   "cell_type": "code",
   "execution_count": null,
   "metadata": {
    "collapsed": true
   },
   "outputs": [],
   "source": []
  }
 ],
 "metadata": {
  "kernelspec": {
   "display_name": "Python 3",
   "language": "python",
   "name": "python3"
  },
  "language_info": {
   "codemirror_mode": {
    "name": "ipython",
    "version": 3
   },
   "file_extension": ".py",
   "mimetype": "text/x-python",
   "name": "python",
   "nbconvert_exporter": "python",
   "pygments_lexer": "ipython3",
   "version": "3.4.3"
  }
 },
 "nbformat": 4,
 "nbformat_minor": 0
}
