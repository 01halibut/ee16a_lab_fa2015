{
 "cells": [
  {
   "cell_type": "markdown",
   "metadata": {
    "collapsed": true,
    "tags": [
     "worksheet-0"
    ]
   },
   "source": [
    "# Locationing Lab 2: Computing Distances\n",
    "\n",
    "### EE16A: Designing Information Devices and Systems I"
   ]
  },
  {
   "cell_type": "markdown",
   "metadata": {
    "collapsed": true,
    "tags": [
     "worksheet-0"
    ]
   },
   "source": [
    "**Name 1:**\n",
    "\n",
    "**Login:** ee16a-\n",
    "\n",
    "**Name 2:**\n",
    "\n",
    "**Login:** ee16a-"
   ]
  },
  {
   "cell_type": "markdown",
   "metadata": {
    "collapsed": true,
    "tags": [
     "worksheet-0"
    ]
   },
   "source": [
    "####[Pre-Lab Presentation](https://docs.google.com/presentation/d/15U-ukuIrtQCyeOJFDSt08PSDi2eP4GHIdJMPPZ5qVKk/edit?usp=sharing)\n",
    "####[Introduction](#w2)\n",
    "####[Task 0: Importing Code](#task0)\n",
    "####[Task 1: Separating Signals](#task1)\n",
    "####[Task 2: Computing Distances](#task2)\n",
    "####[Task 3: Testing with the Microphone](#task3)"
   ]
  },
  {
   "cell_type": "markdown",
   "metadata": {
    "collapsed": true,
    "tags": [
     "worksheet-0"
    ]
   },
   "source": [
    "<a id='w2'></a>\n",
    "##Introduction\n",
    "\n",
    "Last week we learned how to use a powerful tool, cross-correlation, to extract information from the received signal. In this week's lab, you will continue to process the information you have extracted last week, and do some locationing! Just like last week's lab you will focus first on implementing and testing, and it may be confusing. Feel free to ask when you are stuck (you are not alone!), and use plots and visualizations to help yourself understand the material! The block diagram below illustrates the locationing process flow we'll implement in this lab.\n",
    "\n",
    "<center>\n",
    "<img src=\"http://inst.eecs.berkeley.edu/~ee16a/images/location_img/wk1_block_diagram.png\" align=\"center\" style=\"height:450px\">\n",
    "</center>"
   ]
  },
  {
   "cell_type": "code",
   "execution_count": 2,
   "metadata": {
    "collapsed": false,
    "tags": [
     "worksheet-0"
    ]
   },
   "outputs": [
    {
     "name": "stdout",
     "output_type": "stream",
     "text": [
      "Populating the interactive namespace from numpy and matplotlib\n"
     ]
    }
   ],
   "source": [
    "%pylab inline\n",
    "from __future__ import division\n",
    "import random\n",
    "import math\n",
    "\n",
    "# Importing helper functions\n",
    "%run support_code/virtual.py\n",
    "%run support_code/signals.py\n",
    "%run support_code/demod.py"
   ]
  },
  {
   "cell_type": "markdown",
   "metadata": {
    "collapsed": true,
    "tags": [
     "worksheet-0"
    ]
   },
   "source": [
    "<a id='task0'></a>\n",
    "# <span style=\"color:blue\">Task 0: Importing Week 1 Code</span>\n",
    "\n",
    "This lab will require you to use two of the three functions you implemented last week.\n",
    "<br/>\n",
    "**<span style=\"color:red\">\n",
    "Use the built-in `cross_correlation` function and paste your `identify_peak` function into the cell below."
   ]
  },
  {
   "cell_type": "code",
   "execution_count": 13,
   "metadata": {
    "collapsed": false,
    "tags": [
     "worksheet-0"
    ]
   },
   "outputs": [],
   "source": [
    "# Copy the functions from week 1 below\n",
    "def cross_correlation(signal1, signal2):\n",
    "    \"\"\"Compute the cross_correlation of two given signals    \n",
    "    Args:\n",
    "    signal1 (np.array): input signal 1\n",
    "    signal2 (np.array): input signal 2\n",
    "    \n",
    "    Returns:\n",
    "    cross_correlation (np.array): cross-correlation of signal1 and signal2\n",
    "    \n",
    "    >>> cross_correlation([0, 1, 2, 3, 3, 2, 1, 0], [0, 2, 3, 0])\n",
    "    [0, 0, 3, 8, 13, 15, 12, 7, 2, 0, 0]\n",
    "    >>> cross_correlation([0, 2, 3, 0], [0, 1, 2, 3, 3, 2, 1, 0])\n",
    "    [0, 0, 2, 7, 12, 15, 13, 8, 3, 0, 0]\n",
    "    \n",
    "    The for loops implemented in our custom cross-correlation function from\n",
    "    last week results in lengthy computation times for the audio signals we're\n",
    "    going to deal with, so we'll use the faster built-in cross correlation\n",
    "    python function.\n",
    "    \"\"\"\n",
    "    return numpy.convolve(signal1, signal2[::-1])\n",
    "\n",
    "def identify_peak(signal):\n",
    "    \"\"\"Returns the index of the peak of the given signal.\n",
    "    Args:\n",
    "    signal (np.array): input signal\n",
    "    \n",
    "    Returns:\n",
    "    index (int): index of the peak\n",
    "    \n",
    "    >>> identify_peak([1, 2, 5, 7, 12, 4, 1, 0])\n",
    "    4\n",
    "    >>> identify_peak([1, 2, 2, 199, 23, 1])\n",
    "    3\n",
    "    \"\"\"\n",
    "    # BEGIN SOLUTION\n",
    "    \n",
    "    # END SOLUTION"
   ]
  },
  {
   "cell_type": "markdown",
   "metadata": {
    "collapsed": true,
    "tags": [
     "worksheet-0"
    ]
   },
   "source": [
    "<a id='task1'></a>\n",
    "# <span style=\"color:blue\">Task 1: Separating Beacons</span>\n",
    "\n",
    "Recall from the last week's lab: even though we only have a single microphone receiving signals from multiple beacons, we can use *cross-correlation* to determine the time (in samples) at which each signal arrives. We call this process *separating signals*.\n",
    "\n",
    "<center>\n",
    "<img src=\"http://www-inst.eecs.berkeley.edu/~ee16a/sp15/Labs/location/nb_img/wk2_separated.png\" style=\"height:256px\" />\n",
    "</center>\n",
    "\n",
    "**<span style=\"color:red\">Complete the `separate signal` function.</span>**"
   ]
  },
  {
   "cell_type": "code",
   "execution_count": 14,
   "metadata": {
    "collapsed": false,
    "tags": [
     "worksheet-0"
    ]
   },
   "outputs": [
    {
     "data": {
      "text/plain": [
       "[array([1, 1, 1, ..., 1, 1, 1], dtype=int16),\n",
       " array([ 1,  1,  1, ..., -1, -1, -1], dtype=int16),\n",
       " array([ 1,  1,  1, ..., -1, -1, -1], dtype=int16),\n",
       " array([ 1,  1,  1, ..., -1, -1, -1], dtype=int16),\n",
       " array([ 1,  1,  1, ..., -1, -1, -1], dtype=int16),\n",
       " array([ 1,  1,  1, ..., -1, -1, -1], dtype=int16)]"
      ]
     },
     "execution_count": 14,
     "metadata": {},
     "output_type": "execute_result"
    }
   ],
   "source": [
    "# A list of simulated beacons has been imported already. Any code requiring the original beacons can just use this. \n",
    "beacon"
   ]
  },
  {
   "cell_type": "code",
   "execution_count": 15,
   "metadata": {
    "collapsed": false,
    "tags": [
     "worksheet-0"
    ]
   },
   "outputs": [],
   "source": [
    "def separate_signal(raw_signal):\n",
    "    \"\"\"Separate the beacons by computing the cross correlation of the raw signal \n",
    "    with the known beacon signals.\n",
    "    \n",
    "    Args:\n",
    "    raw_signal (np.array): raw signal from the microphone composed of multiple beacon signals\n",
    "    \n",
    "    Returns (list): each entry should be the cross-correlation of the signal with one beacon\n",
    "    \"\"\"\n",
    "    # BEGIN SOLUTION\n",
    "    \n",
    "    # END SOLUTION"
   ]
  },
  {
   "cell_type": "markdown",
   "metadata": {
    "collapsed": true,
    "tags": [
     "worksheet-0"
    ]
   },
   "source": [
    "Before we move on to converting these time differences into locations, we first need to consider several potential issues with our locationing system. \n",
    "\n",
    "1. Our beacons are being played repeatedly at a fixed rate, however we don't know when in the sequence of beacons we started recording. For example, if we record exactly the number of samples of a beacon, we may have begun recording after some of the beacon signals reached the microphone.\n",
    "<br/><br/>\n",
    "2. The microphone uses a buffer to allow it to output data to the computer at the appropriate rate when the recording function is called. When recording samples are first saved to this buffer, and unfortunately when we first start recording, we don't know what it contains. This is why you may have only seen your signal \"start\" at a certain time as shown below.\n",
    "<br/><br/>\n",
    "3. You may have noticed last week that the height of the peaks in your final output was dependent on the volume of the speakers. Just like all of the other systems, the output will be affected by noise which in this case is literally other sounds in the room. \n",
    "<br/>\n",
    "<center>\n",
    "<img src=\"http://www-inst.eecs.berkeley.edu/~ee16a/sp15/Labs/location/nb_img/wk2_buffer.png\" style=\"height:256px\" />\n",
    "**The low amplitude values before sample 10,000 correspond to values read from the buffer prior to recording the real signal.** \n",
    "</center>\n",
    "<br/>\n",
    "\n",
    "The beacon signals repeat every 230 ms, and we record for approximately 2.5 s. Because of this we are recording the *same* beacon signals multiple times, and assuming our object isn't moving we only need *one* set of measurements to determine the time differences between them. \n",
    "\n",
    "**<span style=\"color:red\">How can we use our full recorded signal to solve the problems explained above and make our system more robust? Hint: We only need one recording of the beacon signals, but we wind up with many repeats. How can we use this 'extra' information to our advantage.</span>**\n",
    "\n",
    "\n",
    "**<span style=\"color:red\">We have implemented a function that makes this improvement below. Make sure you can explain what each line of code is doing for checkoff.</span>**"
   ]
  },
  {
   "cell_type": "code",
   "execution_count": 16,
   "metadata": {
    "collapsed": false,
    "tags": [
     "worksheet-0"
    ]
   },
   "outputs": [],
   "source": [
    "def average_signal(separated):\n",
    "    \"\"\"Takes the cross-correlation of the received signal with a beacon (written here as \n",
    "    separated), divides it into periodic slices and averages these slices in order to \n",
    "    increase the signal-to-noise ratio.\n",
    "    \n",
    "    Args:\n",
    "    separated (np.array): cross-correlation of the received signal with a beacon.\n",
    "    \n",
    "    Returns (np.array): average of periodic slices of separated (our input)\n",
    "    \"\"\"\n",
    "    beacon_length = len(beacon0)\n",
    "    num_repeat = len(separated) // beacon_length\n",
    "    averaged = np.mean(np.abs(separated[0 : num_repeat * beacon_length]).reshape((num_repeat, beacon_length)), 0)\n",
    "    return averaged\n",
    "\n",
    "def signal_generator(x, y, noise=0):\n",
    "    raw_signal = add_random_noise(simulate_by_location(x, y), noise)\n",
    "    return demodulate_signal(raw_signal)"
   ]
  },
  {
   "cell_type": "markdown",
   "metadata": {
    "collapsed": true,
    "tags": [
     "worksheet-0"
    ]
   },
   "source": [
    "**<span style=\"color:red\">Run the code below to plot how the quality of the signal improves after running this function.</span>**\n",
    "<br/>\n",
    "Note: Each of these blocks deals with >100k samples, so they may take several seconds to run."
   ]
  },
  {
   "cell_type": "code",
   "execution_count": 17,
   "metadata": {
    "collapsed": false,
    "tags": [
     "worksheet-0"
    ]
   },
   "outputs": [],
   "source": [
    "test_signal = signal_generator(1.2, 3.4, noise=25)\n",
    "sig = separate_signal(test_signal)"
   ]
  },
  {
   "cell_type": "code",
   "execution_count": 28,
   "metadata": {
    "collapsed": false,
    "tags": [
     "worksheet-0"
    ]
   },
   "outputs": [
    {
     "data": {
      "image/png": "[encoded data removed]",
      "text/plain": [
       "<matplotlib.figure.Figure at 0x10d1aa310>"
      ]
     },
     "metadata": {},
     "output_type": "display_data"
    }
   ],
   "source": [
    "plt.figure(figsize=(16,4))\n",
    "plt.plot(np.abs(sig[1]))\n",
    "\n",
    "plt.title('2.5 sec Recording of Beacon 1 After Separation\\n(No Averaging)')\n",
    "plt.xlabel('Sample Number')\n",
    "plt.show()"
   ]
  },
  {
   "cell_type": "code",
   "execution_count": 19,
   "metadata": {
    "collapsed": false,
    "tags": [
     "worksheet-0"
    ]
   },
   "outputs": [],
   "source": [
    "avg = [average_signal(s) for s in sig]"
   ]
  },
  {
   "cell_type": "code",
   "execution_count": 29,
   "metadata": {
    "collapsed": false,
    "tags": [
     "worksheet-0"
    ]
   },
   "outputs": [
    {
     "data": {
      "image/png": "[encoded data removed]",
      "text/plain": [
       "<matplotlib.figure.Figure at 0x10f795e50>"
      ]
     },
     "metadata": {},
     "output_type": "display_data"
    }
   ],
   "source": [
    "plt.figure(figsize=(5,4))\n",
    "plt.plot(avg[1])\n",
    "plt.title('Averaged Periodic Output for Beacon 1')\n",
    "plt.xlabel('Sample Number')\n",
    "plt.show()"
   ]
  },
  {
   "cell_type": "markdown",
   "metadata": {
    "collapsed": true,
    "tags": [
     "worksheet-0"
    ]
   },
   "source": [
    "**<span style=\"color:red\">What is the effect of averaging? Why would this be useful?</span>**"
   ]
  },
  {
   "cell_type": "markdown",
   "metadata": {
    "collapsed": true,
    "tags": [
     "worksheet-0"
    ]
   },
   "source": [
    "<a id='task2'></a>\n",
    "# <span style=\"color:blue\">Task 2a: Computing Distances</span>\n",
    "\n",
    "We can now determine the time at which each signal arrived with respect to the first sample of the recording. Unfortunately, this time in samples has no direct relationship to physical distances. As discussed above, our recordings start at arbitrary times with respect to the beacons. However, we can compute times relative to a particular beacon.\n",
    "\n",
    "For example, if our cross-correlation tells us that **`beacon0`** arrives at $t_0 = 1120$ and **`beacon1`** arrives at $t_1 = 1420$ we can see that **`beacon1`** arrives $300$ samples after **`beacon0`**.\n",
    "We call the relative time of arrival in samples **offsets** and define the **offset** of all other beacons with respect to **`beacon0`**.\n",
    "\n",
    "**<span style=\"color:red\">According to our definition above what is the offset of `beacon0`?</span>**\n",
    "\n",
    "**<span style=\"color:red\">If `beacon2` arrives 450 samples later than `beacon0`, what is the *time* difference of arrival (in seconds) given that our sampling rate is $f_s=44100$ Hz?</span>**\n",
    "\n",
    "**<span style=\"color:red\">Run the code below to plot the separated signals. Can you estimate the offset for each signal relative to `beacon 0`?</span>**\n"
   ]
  },
  {
   "cell_type": "code",
   "execution_count": null,
   "metadata": {
    "collapsed": false,
    "tags": [
     "worksheet-0"
    ]
   },
   "outputs": [],
   "source": [
    "# Simulate the received signal\n",
    "test_signal = signal_generator(1.4, 3.22)\n",
    "\n",
    "# Separate the beacon signals by demodulating the received signal\n",
    "separated = separate_signal(test_signal)\n",
    "\n",
    "# Perform our averaging function\n",
    "avg = [average_signal(s) for s in separated]\n",
    "\n",
    "# Plot the averaged output for each beacon\n",
    "plt.figure(figsize=(16,4))\n",
    "for i in range(len(avg)):\n",
    "    plt.plot(avg[i], label=\"{0}\".format(i))\n",
    "plt.title(\"Separated and Averaged Cross-correlation outputs with Beacon0 at t=0\")\n",
    "plt.legend()\n",
    "plt.show()\n",
    "\n",
    "# Plot the averaged output for each beacon centered about beacon0\n",
    "plt.figure(figsize=(16,4))\n",
    "peak = identify_peak(avg[0])\n",
    "for i in range(len(avg)):\n",
    "    plt.plot(np.roll(avg[i], len(avg[0]) // 2 - peak), label=\"{0}\".format(i))\n",
    "plt.title(\"Shifted Cross-correlated outputs centered about Beacon0\")\n",
    "plt.legend()\n",
    "plt.show()"
   ]
  },
  {
   "cell_type": "markdown",
   "metadata": {
    "collapsed": true,
    "tags": [
     "worksheet-0"
    ]
   },
   "source": [
    "Note that sometimes a beacon can arrive earlier than our reference signal, **`beacon0`**. More intuitively, these beacons have a *negative offset*. You can think of this as the plot being a defined number of samples and the end wrapping around to represent negative values.\n",
    "We have provided you code to center the received signal about **`beacon0`** at sample 0 as done in the two plots above.\n",
    "\n",
    "**<span style=\"color:red\">Complete the function below which returns offsets in samples given a list of input signals.</span>**"
   ]
  },
  {
   "cell_type": "code",
   "execution_count": null,
   "metadata": {
    "collapsed": false,
    "tags": [
     "worksheet-0"
    ]
   },
   "outputs": [],
   "source": [
    "def identify_offsets(averaged):\n",
    "    \"\"\" Identify the difference in samples between the samples.\n",
    "    The peaks of the signals are shifted to the center.\n",
    "    \n",
    "    Args:\n",
    "    averaged (list): a python list in which each entry is a numpy array \n",
    "                    from the output of average_signal (look above to find \n",
    "                    out more about average_signal)\n",
    "    \n",
    "    Returns (list): a list corresponding to the offset of each signal in the input\n",
    "    \"\"\"\n",
    "    # Reshaping (shifting) the input so that all of our peaks are centered about the peak of beacon0\n",
    "    peak = identify_peak(averaged[0])\n",
    "    shifted = [np.roll(avg, len(averaged[0]) // 2 - peak) for avg in averaged]\n",
    "    ##### DO NOT CHANGE THE CODE ABOVE THIS LINE ####\n",
    "    \n",
    "    # SHIFTED represents all of the signals shifted so that they are centered about the peak of beacon0\n",
    "    # Use SHIFTED to determine the offsets\n",
    "    # Consider what the offset for beacon0 should be\n",
    "\n",
    "    # BEGIN SOLUTION\n",
    "    \n",
    "    # END SOLUTION"
   ]
  },
  {
   "cell_type": "markdown",
   "metadata": {
    "collapsed": true,
    "tags": [
     "worksheet-0"
    ]
   },
   "source": [
    "We now need to convert the offsets we have computed in samples to the time difference of arrivals (TDOAs) we will use to determine locations.\n",
    "\n",
    "**<span style=\"color:red\">Given that our microphones sample at a rate of $f_s=44100$ Hz, complete the function `offset_to_time` below which takes a list of offsets (for example the output of `identify_offsets`), and a sampling frequency and returns a list of TDOA's.</span>**\n",
    "<br/>\n",
    "*Hint: What is the relation between sampling frequency, number of samples, and time?*"
   ]
  },
  {
   "cell_type": "code",
   "execution_count": null,
   "metadata": {
    "collapsed": false,
    "tags": [
     "worksheet-0"
    ]
   },
   "outputs": [],
   "source": [
    "def offset_to_time(offsets, sampling_freq):\n",
    "    \"\"\" Convert a list of offsets to a list of TDOA's\n",
    "   \n",
    "    Args:\n",
    "    offsets (list): list of offests in samples\n",
    "    sampling_freq (int): sampling frequency in Hz\n",
    "    \n",
    "    Returns (list): a list of TDOAs corresponding to the input offsets\n",
    "    \"\"\"\n",
    "    # BEGIN SOLUTION\n",
    "    \n",
    "    # END SOLUTION"
   ]
  },
  {
   "cell_type": "markdown",
   "metadata": {
    "collapsed": true,
    "tags": [
     "worksheet-0"
    ]
   },
   "source": [
    "# <span style=\"color:blue\">Task 2b: Combining Functions</span>\n",
    "We now have a variety of helper functions to perform each step of the calculations required to go from our microphone signal to a list TDOAs with all the relevant intermediate steps.\n",
    "\n",
    "**<span style=\"color:red\">Implement a function that will take in the recorded microphone signal and output the offset in *samples*.</span>**"
   ]
  },
  {
   "cell_type": "code",
   "execution_count": null,
   "metadata": {
    "collapsed": false,
    "tags": [
     "worksheet-0"
    ]
   },
   "outputs": [],
   "source": [
    "def signal_to_offsets(raw_signal):\n",
    "    \"\"\" Compute a list of offsets from the microphone to each speaker.\n",
    "    \n",
    "    Args:\n",
    "    raw_signal (np.array): raw received signal from the microphone (e.g. no separation, averaging, etc).\n",
    "    \n",
    "    Returns (list): offset for each beacon (beacon0, beacon1, etc). in samples\n",
    "    \"\"\"\n",
    "    # BEGIN SOLUTION\n",
    "    \n",
    "    # END SOLUTION"
   ]
  },
  {
   "cell_type": "markdown",
   "metadata": {
    "collapsed": true,
    "tags": [
     "worksheet-0"
    ]
   },
   "source": [
    "We now know the time differences relative to a single beacon, so given a reference time for **`beacon0`** we can determine the total time for the sound wave to travel the distance from the speakers to our microphone. Knowing that the speed of sound is **340 m/s**, we can compute the distance from the microphone to each speaker, and use simple geometry to locate ourselves! This is exactly what the GPS is doing, except with electromagnetic waves rather than sound waves.\n",
    "\n",
    "**<span style=\"color:red\">Implement a function, `signal_to_distances`, which takes a recorded signal and the time of arrival of the first beacon signal, and returns a list of the distance from the microphone to each speaker.</span>**\n",
    "*Hint: You may wish to take advantage of a function that computes the offsets given the raw microphone signal.*\n"
   ]
  },
  {
   "cell_type": "code",
   "execution_count": null,
   "metadata": {
    "collapsed": false,
    "tags": [
     "worksheet-0"
    ]
   },
   "outputs": [],
   "source": [
    "v_air = 340.29\n",
    "def signal_to_distances(raw_signal, t0):\n",
    "    \"\"\" Returns a list of distancs from the microphone to each speaker.\n",
    "    \n",
    "    Args:\n",
    "    signal (np.array): recorded signal from the microphone\n",
    "    t0 (float): reference time for beacon0 in seconds\n",
    "    \n",
    "    Returns (list): distances to each of the speakers (beacon0, beacon1, etc). in meters\n",
    "    \"\"\"\n",
    "    # BEGIN SOLUTION\n",
    "    \n",
    "    # END SOLUTION"
   ]
  },
  {
   "cell_type": "markdown",
   "metadata": {},
   "source": [
    "**<span style=\"color:red\">Run the following tests and make sure that all four tests pass before moving on to the example section.</span>**"
   ]
  },
  {
   "cell_type": "code",
   "execution_count": null,
   "metadata": {
    "collapsed": false,
    "tags": [
     "worksheet-0"
    ]
   },
   "outputs": [],
   "source": [
    "# Virtual Test\n",
    "\n",
    "# Utility Functions\n",
    "def list_float_eq(lst1, lst2):\n",
    "    if len(lst1) != len(lst2): return False\n",
    "    for i in range(len(lst1)):\n",
    "        if abs(lst1[i] - lst2[i]) >= 0.00001: return False\n",
    "    return True\n",
    "\n",
    "def list_sim(lst1, lst2):\n",
    "    if len(lst1) != len(lst2): return False\n",
    "    for i in range(len(lst1)):\n",
    "        if abs(lst1[i] - lst2[i]) >= 3: return False\n",
    "    return True\n",
    "\n",
    "test_num = 0\n",
    "\n",
    "# 1. Identify offsets - 1\n",
    "print(\" ------------------ \")\n",
    "test_num += 1\n",
    "test_signal = get_signal_virtual(offsets = [0, 254, 114, 22, 153, 625])\n",
    "raw_signal = demodulate_signal(test_signal)\n",
    "sig = separate_signal(raw_signal)\n",
    "avg = [average_signal(s) for s in sig]\n",
    "offsets = identify_offsets(avg)\n",
    "test = list_sim(offsets, [0, 254, 114, 23, 153, 625])\n",
    "print(\"Test positive offsets\")\n",
    "print(\"Your computed offsets = {}\".format(offsets))\n",
    "print(\"Correct offsets = {}\".format([0, 254, 114, 23, 153, 625]))\n",
    "if not test:\n",
    "    print((\"Test {0} Failed\".format(test_num)))\n",
    "else: \n",
    "    print(\"Test {0} Passed\".format(test_num))\n",
    "\n",
    "# 2. Identify offsets - 2\n",
    "print(\" ------------------ \")\n",
    "test_num += 1\n",
    "test_signal = get_signal_virtual(offsets = [0, -254, 0, -21, 153, -625])\n",
    "raw_signal = demodulate_signal(test_signal)\n",
    "sig = separate_signal(raw_signal)\n",
    "avg = [average_signal(s) for s in sig]\n",
    "offsets = identify_offsets(avg)\n",
    "test = list_sim(offsets, [0, -254, 0, -21, 153, -625])\n",
    "print(\"Test negative offsets\")\n",
    "print(\"Your computed offsets = {}\".format(offsets))\n",
    "print(\"Correct offsets = {}\".format([0, -254, 0, -21, 153, -625]))\n",
    "if not test:\n",
    "    print(\"Test {0} Failed\".format(test_num))\n",
    "else: \n",
    "    print(\"Test {0} Passed\".format(test_num))\n",
    "\n",
    "# 3. Offsets to TDOA\n",
    "print(\" ------------------ \")\n",
    "test_num += 1\n",
    "off2t = offset_to_time([0, -254, 0, -21, 153, -625], 44100)\n",
    "test = list_float_eq(np.around(off2t,6), np.around([0.0, -0.005759637188208617, 0.0, -0.0004761904761904762, 0.0034693877551020408, -0.01417233560090703],6))\n",
    "print(\"Test TDOAs\")\n",
    "print(\"Your computed TDOAs = {}\".format(np.around(off2t,6)))\n",
    "print(\"Correct TDOAs = {}\".format(np.around([0.0, -0.005759637188208617, 0.0, -0.0004761904761904762, 0.0034693877551020408, -0.01417233560090703],6)))\n",
    "if not test:\n",
    "    print(\"Test {0} Failed\".format(test_num))\n",
    "else: \n",
    "    print(\"Test {0} Passed\".format(test_num))\n",
    "\n",
    "# 4. Signal to distances\n",
    "print(\" ------------------ \")\n",
    "test_num += 1\n",
    "dist = signal_to_distances(demodulate_signal(get_signal_virtual(x=1.765, y=2.683)), 0.009437530220245524)\n",
    "test = list_float_eq(np.around(dist,1), np.around([3.2114971586473495, 4.1991869545657172, 2.9105604239534717, 3.9754134851779623, 1.7762604239534723, 2.7870991994636762],1))\n",
    "print(\"Test computed distances\")\n",
    "print(\"Your computed distances = {}\".format(np.around(dist,1)))\n",
    "print(\"Correct distances = {}\".format(np.around([3.2114971586473495, 4.1991869545657172, 2.9105604239534717, 3.9754134851779623, 1.7762604239534723, 2.7870991994636762],1)))\n",
    "if not test:\n",
    "    print(\"Test {0} Failed\".format(test_num))\n",
    "else: \n",
    "    print(\"Test {0} Passed\".format(test_num))"
   ]
  },
  {
   "cell_type": "markdown",
   "metadata": {
    "collapsed": true,
    "tags": [
     "worksheet-0"
    ]
   },
   "source": [
    "After computing the distances from each speaker, we can use the formula for distance $d = \\sqrt{(x-x_{speaker})^2 + (y-y_{speaker})^2}$ to construct a system of equations and solve for our exact location! Rather than solving for our exact coordinates, we will visualize our position with respect to the beacons on a graph.\n",
    "\n",
    "**<span style=\"color:red\">Add the necessary lines of code then run the following block that separates, averages and shifts five location beacon signals with respect to a `beacon0` on a 2D plane with our microphone located at (1.2, 3.6).</span>**"
   ]
  },
  {
   "cell_type": "code",
   "execution_count": null,
   "metadata": {
    "collapsed": false,
    "tags": [
     "worksheet-0"
    ]
   },
   "outputs": [],
   "source": [
    "# Assume the time of arrival of the first beacon is 0.011151468430462413.\n",
    "received_signal = get_signal_virtual(x=1.2, y=3.6)\n",
    "raw_signal = demodulate_signal(received_signal)\n",
    "\n",
    "# BEGIN SOLUTION\n",
    "# Separate the beacon signals\n",
    "\n",
    "# Perform our averaging function, the output should be called avgf\n",
    "\n",
    "# END SOLUTION\n",
    "\n",
    "# Plot the averaged output for each beacon\n",
    "plt.figure(figsize=(16,4))\n",
    "for i in range(len(avgf)):\n",
    "    plt.plot(avgf[i], label=\"{0}\".format(i))\n",
    "plt.title(\"[DEBUGGING] Separated and Averaged Signals\")\n",
    "plt.legend()\n",
    "plt.show()\n",
    "\n",
    "# Plot the averaged output for each beacon centered about beacon0\n",
    "plt.figure(figsize=(16,4))\n",
    "peak = identify_peak(avgf[0])\n",
    "for i in range(len(avgf)):\n",
    "    plt.plot(np.roll(avgf[i], len(avgf[0]) // 2 - peak), label=\"{0}\".format(i))\n",
    "plt.title(\"[DEBUGGING] Shifted- All 6 beacons should appear on this plot\")\n",
    "plt.xlim(len(avgf[0]) // 2 - peak - 300, len(avgf[0]) // 2 - peak + 300)\n",
    "plt.legend()\n",
    "plt.show()\n",
    "\n",
    "offsets = signal_to_offsets(raw_signal)\n",
    "print( \"[DEBUGGING] The offsets are: %s\"%str(offsets))"
   ]
  },
  {
   "cell_type": "markdown",
   "metadata": {},
   "source": [
    "**<span style=\"color:red\">Run the following block to simulate speakers located at (0, 0), (5, 0), (0, 5) on a 2D plane and a microphone located at (1.2, 3.6).</span>**"
   ]
  },
  {
   "cell_type": "code",
   "execution_count": null,
   "metadata": {
    "collapsed": false
   },
   "outputs": [],
   "source": [
    "distances = signal_to_distances(raw_signal, 0.011151468430462413)\n",
    "distances = distances[:3]\n",
    "print( \"The distances are: %s\"%str(distances))\n",
    "\n",
    "# Plot the speakers\n",
    "coords = [(0, 0), (5, 0), (0, 5)]\n",
    "\n",
    "plot_speakers(plt, coords, distances, xlim=(-8, 8), ylim=(-16/3, 16/3))\n",
    "plt.show()"
   ]
  },
  {
   "cell_type": "markdown",
   "metadata": {
    "collapsed": true,
    "tags": [
     "worksheet-0"
    ]
   },
   "source": [
    "**<span style=\"color:red\">What do you observe? What does each circle mean? What about their intersections?</span>**\n",
    "\n",
    "Now let's explore how the number of speakers (beacon signals) affect our solution. First, let's try the exact same code with one fewer beacon signal (so we only have two beacons and the time of arrival of the first one):"
   ]
  },
  {
   "cell_type": "code",
   "execution_count": null,
   "metadata": {
    "collapsed": false,
    "tags": [
     "worksheet-0"
    ]
   },
   "outputs": [],
   "source": [
    "# Assume the time of arrival of the first beacon is 0.011151468430462413.\n",
    "plot_speakers(plt, [(0, 0), (5, 0)], distances, xlim=(-6, 6), ylim=(-4, 4))\n",
    "plt.show()"
   ]
  },
  {
   "cell_type": "markdown",
   "metadata": {
    "collapsed": true,
    "tags": [
     "worksheet-0"
    ]
   },
   "source": [
    "**<span style=\"color:red\">How many dimensions can we determine our position in? For our goal of a 2D locationing system what is the minimum number of beacons we will need?</span>**\n",
    "\n",
    "Now let's do it with five beacons:"
   ]
  },
  {
   "cell_type": "code",
   "execution_count": null,
   "metadata": {
    "collapsed": false,
    "tags": [
     "worksheet-0"
    ]
   },
   "outputs": [],
   "source": [
    "# Assume the time of arrival of the first beacon is 0.011151468430462413.\n",
    "received_signal = get_signal_virtual(x=1.2, y=3.6)\n",
    "raw_signal = demodulate_signal(received_signal)\n",
    "distances = signal_to_distances(raw_signal, 0.011151468430462413)\n",
    "distances = distances[:5]\n",
    "print((\"The distances are: \" + str(distances)))\n",
    "\n",
    "# Plot the speakers\n",
    "plot_speakers(plt, [(0, 0), (5, 0), (0, 5), (5, 5), (0, 2.5)], distances, xlim=(-8, 8), ylim=(-16/3, 16/3))\n",
    "plt.show()"
   ]
  },
  {
   "cell_type": "markdown",
   "metadata": {
    "collapsed": true,
    "tags": [
     "worksheet-0"
    ]
   },
   "source": [
    "**<span style=\"color:red\">We know we need a minimum number of beacons to find our location uniquely in a 2D space. How could additional beacons be useful? List two reasons.</span>**"
   ]
  },
  {
   "cell_type": "markdown",
   "metadata": {
    "collapsed": true,
    "tags": [
     "worksheet-0"
    ]
   },
   "source": [
    "We can now locate ourselves if we know the time of arrival of the first beacon. How can we do it without knowing any time of arrival? In next week's lab, we will find a way to do the locationing using only time difference of arrival (TDOA's)!\n",
    "\n",
    "\n",
    "***<span style=\"color:red\">IMPORTANT, SAVE YOUR FUNCTIONS!!!: *** **Save your ipython notebook into the cloud or a personal drive. You will need to paste certain functions in next week's notebook just as you did for this week.**"
   ]
  },
  {
   "cell_type": "markdown",
   "metadata": {
    "collapsed": true,
    "tags": [
     "worksheet-0"
    ]
   },
   "source": [
    "<a id='task3'></a>\n",
    "# <span style=\"color:blue\">Task 3: Testing With the Microphone</span>\n",
    "**<span style=\"color:red\">MAKE SURE THE MICROPHONE AND SPEAKERS ARE CONNECTED</span>**"
   ]
  },
  {
   "cell_type": "code",
   "execution_count": null,
   "metadata": {
    "collapsed": false,
    "tags": [
     "worksheet-0"
    ]
   },
   "outputs": [],
   "source": [
    "%run support_code/rec.py\n",
    "\n",
    "def get_signal():\n",
    "    \"\"\"Get the signal from the microphone\"\"\"\n",
    "    return mic.new_data()"
   ]
  },
  {
   "cell_type": "markdown",
   "metadata": {
    "collapsed": true,
    "tags": [
     "worksheet-0"
    ]
   },
   "source": [
    "Play **offset_250_540_-321.wav** in the lab folder and use your microphone to record it (by running the cell below - you may want to run it twice when the wav file is playing to *clear the buffer*."
   ]
  },
  {
   "cell_type": "code",
   "execution_count": null,
   "metadata": {
    "collapsed": false,
    "tags": [
     "worksheet-0"
    ]
   },
   "outputs": [],
   "source": [
    "received_signal = get_signal()"
   ]
  },
  {
   "cell_type": "markdown",
   "metadata": {
    "collapsed": true,
    "tags": [
     "worksheet-0"
    ]
   },
   "source": [
    "Again, plot the signal to make sure it is properly recorded before you use it to test your code."
   ]
  },
  {
   "cell_type": "code",
   "execution_count": null,
   "metadata": {
    "collapsed": false,
    "tags": [
     "worksheet-0"
    ]
   },
   "outputs": [],
   "source": [
    "plt.figure(figsize=(16,4))\n",
    "plt.plot(received_signal)\n",
    "plt.show()\n",
    "plt.savefig(\"buffer1.png\")"
   ]
  },
  {
   "cell_type": "code",
   "execution_count": null,
   "metadata": {
    "collapsed": false,
    "tags": [
     "worksheet-0"
    ]
   },
   "outputs": [],
   "source": [
    "# Test your code:\n",
    "offsets = signal_to_offsets(demodulate_signal(received_signal))\n",
    "print(\"Expected: \" + str([0, 250, 540, -321]))\n",
    "print(\"Got: \" + str(offsets[:4]))"
   ]
  }
 ],
 "metadata": {
  "kernelspec": {
   "display_name": "Python 2",
   "language": "python",
   "name": "python2"
  },
  "language_info": {
   "codemirror_mode": {
    "name": "ipython",
    "version": 2
   },
   "file_extension": ".py",
   "mimetype": "text/x-python",
   "name": "python",
   "nbconvert_exporter": "python",
   "pygments_lexer": "ipython2",
   "version": "2.7.10"
  }
 },
 "nbformat": 4,
 "nbformat_minor": 0
}
